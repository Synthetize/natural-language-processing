{
 "cells": [
  {
   "cell_type": "markdown",
   "metadata": {
    "id": "o_T91PazOhCe"
   },
   "source": [
    "# Unigram tokenization"
   ]
  },
  {
   "cell_type": "markdown",
   "metadata": {
    "id": "4uA4imz3OhCg"
   },
   "source": [
    "*Source: https://huggingface.co/learn/llm-course/en/chapter6/7?fw=pt*\n",
    "\n",
    "Install the Transformers, Datasets, and Evaluate libraries to run this notebook."
   ]
  },
  {
   "cell_type": "code",
   "metadata": {
    "id": "af7oSfe0OhCg",
    "ExecuteTime": {
     "end_time": "2025-09-12T15:49:05.842968Z",
     "start_time": "2025-09-12T15:49:05.834023Z"
    }
   },
   "source": "#!pip install datasets evaluate transformers[sentencepiece]",
   "outputs": [],
   "execution_count": 1
  },
  {
   "cell_type": "code",
   "metadata": {
    "id": "gKvcan0OOhCg",
    "ExecuteTime": {
     "end_time": "2025-09-12T15:49:05.861249Z",
     "start_time": "2025-09-12T15:49:05.851369Z"
    }
   },
   "source": [
    "\n",
    "\n",
    "corpus = [\n",
    "\n",
    "    \"Hopefully, you will be able to understand how they are trained and generate tokens.\",\n",
    "    \"Films adapted from comic books have had plenty of success, whether they're about superheroes (Batman, Superman, Spawn), or geared toward kids (Casper) or the arthouse crowd (Ghost World), but there's never really been a comic book like From Hell before. For starters, it was created by Alan Moore (and Eddie Campbell), who brought the medium to a whole new level in the mid '80s with a 12-part series called The Watchmen. To say Moore and Campbell thoroughly researched the subject of Jack the Ripper would be like saying Michael Jackson is starting to look a little odd. The book (or 'graphic novel', if you will) is over 500 pages long and includes nearly 30 more that consist of nothing but footnotes. In other words, don't dismiss this film because of its source. If you can get past the whole comic book thing, you might find another stumbling block in From Hell's directors, Albert and Allen Hughes. Getting the Hughes brothers to direct this seems almost as ludicrous as casting Carrot Top in, well, anything, but riddle me this: who better to direct a film that's set in the ghetto and features really violent street crime than the mad geniuses behind Menace II Society? The ghetto in question is, of course, Whitechapel in 1888 London's East End. It's a filthy, sooty place where the whores (called 'unfortunates') are starting to get a little nervous about this mysterious psychopath who has been carving through their profession with surgical precision. When the first stiff turns up, copper Peter Godley (Robbie Coltrane, The World Is Not Enough) calls in Inspector Frederick Abberline (Johnny Depp, Blow) to crack the case. Abberline, a widower, has prophetic dreams he unsuccessfully tries to quell with copious amounts of absinthe and opium. Upon arriving in Whitechapel, he befriends an unfortunate named Mary Kelly (Heather Graham, Say It Isn't So) and proceeds to investigate the horribly gruesome crimes that even the police surgeon can't stomach. I don't think anyone needs to be briefed on Jack the Ripper, so I won't go into the particulars here, other than to say Moore and Campbell have a unique and interesting theory about both the identity of the killer and the reasons he chooses to slay. In the comic, they don't bother cloaking the identity of the Ripper, but screenwriters Terry Hayes (Vertical Limit) and Rafael Yglesias (Les Misérables) do a good job of keeping him hidden from viewers until the very end. It's funny to watch the locals blindly point the finger of blame at Jews and Indians because, after all, an Englishman could never be capable of committing such ghastly acts. And From Hell's ending had me whistling the Stonecutters song from The Simpsons for days ('who holds back the electric car/who made Steve Guttenberg a star?'). Don't worry - it'll all make sense when you see it. Now onto From Hell's appearance: it's certainly dark and bleak enough, and it's surprising to see how much more it looks like a Tim Burton film than Planet of the Apes did (at times, it seems like Sleepy Hollow 2). The print I saw wasn't completely finished (both color and music had not been finalized, so no comments about Marilyn Manson), but cinematographer Peter Deming (Don't Say a Word) ably captures the dreariness of Victorian-era London and helped make the flashy killing scenes remind me of the crazy flashbacks in Twin Peaks, even though the violence in the film pales in comparison to that in the black-and-white comic. Oscar winner Martin Childs' (Shakespeare in Love) production design turns the original Prague surroundings into one creepy place. Even the acting in From Hell is solid, with the dreamy Depp turning in a typically strong performance and deftly handling a British accent. Ians Holm (Joe Gould's Secret) and Richardson (102 Dalmatians) log in great supporting roles, but the big surprise here is Graham. I cringed the first time she opened her mouth, imagining her attempt at an Irish accent, but it actually wasn't half bad.The film, however, is all good.\"\n",
    "]"
   ],
   "outputs": [],
   "execution_count": 2
  },
  {
   "cell_type": "code",
   "metadata": {
    "id": "Ei3I5yT0OhCg",
    "ExecuteTime": {
     "end_time": "2025-09-12T15:49:10.057488Z",
     "start_time": "2025-09-12T15:49:05.870621Z"
    }
   },
   "source": [
    "from transformers import AutoTokenizer\n",
    "\n",
    "tokenizer = AutoTokenizer.from_pretrained(\"xlnet-base-cased\")"
   ],
   "outputs": [
    {
     "name": "stderr",
     "output_type": "stream",
     "text": [
      "C:\\Users\\Leonardo\\Documents\\Projects\\natural-language-processing\\.venv\\Lib\\site-packages\\tqdm\\auto.py:21: TqdmWarning: IProgress not found. Please update jupyter and ipywidgets. See https://ipywidgets.readthedocs.io/en/stable/user_install.html\n",
      "  from .autonotebook import tqdm as notebook_tqdm\n",
      "None of PyTorch, TensorFlow >= 2.0, or Flax have been found. Models won't be available and only tokenizers, configuration and file/data utilities can be used.\n"
     ]
    }
   ],
   "execution_count": 3
  },
  {
   "cell_type": "code",
   "metadata": {
    "id": "w2Zl38vzOhCh",
    "ExecuteTime": {
     "end_time": "2025-09-12T15:49:10.357524Z",
     "start_time": "2025-09-12T15:49:10.303993Z"
    }
   },
   "source": [
    "from collections import defaultdict\n",
    "\n",
    "word_freqs = defaultdict(int)\n",
    "for text in corpus:\n",
    "    words_with_offsets = tokenizer.backend_tokenizer.pre_tokenizer.pre_tokenize_str(text)\n",
    "    new_words = [word for word, offset in words_with_offsets]\n",
    "    for word in new_words:\n",
    "        word_freqs[word] += 1\n",
    "\n",
    "word_freqs"
   ],
   "outputs": [
    {
     "data": {
      "text/plain": [
       "defaultdict(int,\n",
       "            {'▁Hopefully,': 1,\n",
       "             '▁you': 5,\n",
       "             '▁will': 1,\n",
       "             '▁be': 4,\n",
       "             '▁able': 1,\n",
       "             '▁to': 15,\n",
       "             '▁understand': 1,\n",
       "             '▁how': 2,\n",
       "             '▁they': 2,\n",
       "             '▁are': 2,\n",
       "             '▁trained': 1,\n",
       "             '▁and': 18,\n",
       "             '▁generate': 1,\n",
       "             '▁tokens.': 1,\n",
       "             '▁Films': 1,\n",
       "             '▁adapted': 1,\n",
       "             '▁from': 3,\n",
       "             '▁comic': 3,\n",
       "             '▁books': 1,\n",
       "             '▁have': 2,\n",
       "             '▁had': 3,\n",
       "             '▁plenty': 1,\n",
       "             '▁of': 14,\n",
       "             '▁success,': 1,\n",
       "             '▁whether': 1,\n",
       "             \"▁they're\": 1,\n",
       "             '▁about': 4,\n",
       "             '▁superheroes': 1,\n",
       "             '▁(Batman,': 1,\n",
       "             '▁Superman,': 1,\n",
       "             '▁Spawn),': 1,\n",
       "             '▁or': 2,\n",
       "             '▁geared': 1,\n",
       "             '▁toward': 1,\n",
       "             '▁kids': 1,\n",
       "             '▁(Casper)': 1,\n",
       "             '▁the': 39,\n",
       "             '▁arthouse': 1,\n",
       "             '▁crowd': 1,\n",
       "             '▁(Ghost': 1,\n",
       "             '▁World),': 1,\n",
       "             '▁but': 7,\n",
       "             \"▁there's\": 1,\n",
       "             '▁never': 2,\n",
       "             '▁really': 2,\n",
       "             '▁been': 3,\n",
       "             '▁a': 15,\n",
       "             '▁book': 3,\n",
       "             '▁like': 4,\n",
       "             '▁From': 5,\n",
       "             '▁Hell': 2,\n",
       "             '▁before.': 1,\n",
       "             '▁For': 1,\n",
       "             '▁starters,': 1,\n",
       "             '▁it': 4,\n",
       "             '▁was': 1,\n",
       "             '▁created': 1,\n",
       "             '▁by': 1,\n",
       "             '▁Alan': 1,\n",
       "             '▁Moore': 3,\n",
       "             '▁(and': 1,\n",
       "             '▁Eddie': 1,\n",
       "             '▁Campbell),': 1,\n",
       "             '▁who': 3,\n",
       "             '▁brought': 1,\n",
       "             '▁medium': 1,\n",
       "             '▁whole': 2,\n",
       "             '▁new': 1,\n",
       "             '▁level': 1,\n",
       "             '▁in': 15,\n",
       "             '▁mid': 1,\n",
       "             \"▁'80s\": 1,\n",
       "             '▁with': 4,\n",
       "             '▁12-part': 1,\n",
       "             '▁series': 1,\n",
       "             '▁called': 1,\n",
       "             '▁The': 6,\n",
       "             '▁Watchmen.': 1,\n",
       "             '▁To': 1,\n",
       "             '▁say': 2,\n",
       "             '▁Campbell': 2,\n",
       "             '▁thoroughly': 1,\n",
       "             '▁researched': 1,\n",
       "             '▁subject': 1,\n",
       "             '▁Jack': 2,\n",
       "             '▁Ripper': 1,\n",
       "             '▁would': 1,\n",
       "             '▁saying': 1,\n",
       "             '▁Michael': 1,\n",
       "             '▁Jackson': 1,\n",
       "             '▁is': 5,\n",
       "             '▁starting': 2,\n",
       "             '▁look': 1,\n",
       "             '▁little': 2,\n",
       "             '▁odd.': 1,\n",
       "             '▁(or': 1,\n",
       "             \"▁'graphic\": 1,\n",
       "             \"▁novel',\": 1,\n",
       "             '▁if': 1,\n",
       "             '▁will)': 1,\n",
       "             '▁over': 1,\n",
       "             '▁500': 1,\n",
       "             '▁pages': 1,\n",
       "             '▁long': 1,\n",
       "             '▁includes': 1,\n",
       "             '▁nearly': 1,\n",
       "             '▁30': 1,\n",
       "             '▁more': 2,\n",
       "             '▁that': 3,\n",
       "             '▁consist': 1,\n",
       "             '▁nothing': 1,\n",
       "             '▁footnotes.': 1,\n",
       "             '▁In': 2,\n",
       "             '▁other': 2,\n",
       "             '▁words,': 1,\n",
       "             \"▁don't\": 3,\n",
       "             '▁dismiss': 1,\n",
       "             '▁this': 3,\n",
       "             '▁film': 4,\n",
       "             '▁because': 1,\n",
       "             '▁its': 1,\n",
       "             '▁source.': 1,\n",
       "             '▁If': 1,\n",
       "             '▁can': 1,\n",
       "             '▁get': 2,\n",
       "             '▁past': 1,\n",
       "             '▁thing,': 1,\n",
       "             '▁might': 1,\n",
       "             '▁find': 1,\n",
       "             '▁another': 1,\n",
       "             '▁stumbling': 1,\n",
       "             '▁block': 1,\n",
       "             \"▁Hell's\": 3,\n",
       "             '▁directors,': 1,\n",
       "             '▁Albert': 1,\n",
       "             '▁Allen': 1,\n",
       "             '▁Hughes.': 1,\n",
       "             '▁Getting': 1,\n",
       "             '▁Hughes': 1,\n",
       "             '▁brothers': 1,\n",
       "             '▁direct': 2,\n",
       "             '▁seems': 2,\n",
       "             '▁almost': 1,\n",
       "             '▁as': 2,\n",
       "             '▁ludicrous': 1,\n",
       "             '▁casting': 1,\n",
       "             '▁Carrot': 1,\n",
       "             '▁Top': 1,\n",
       "             '▁in,': 1,\n",
       "             '▁well,': 1,\n",
       "             '▁anything,': 1,\n",
       "             '▁riddle': 1,\n",
       "             '▁me': 3,\n",
       "             '▁this:': 1,\n",
       "             '▁better': 1,\n",
       "             \"▁that's\": 1,\n",
       "             '▁set': 1,\n",
       "             '▁ghetto': 2,\n",
       "             '▁features': 1,\n",
       "             '▁violent': 1,\n",
       "             '▁street': 1,\n",
       "             '▁crime': 1,\n",
       "             '▁than': 3,\n",
       "             '▁mad': 1,\n",
       "             '▁geniuses': 1,\n",
       "             '▁behind': 1,\n",
       "             '▁Menace': 1,\n",
       "             '▁II': 1,\n",
       "             '▁Society?': 1,\n",
       "             '▁question': 1,\n",
       "             '▁is,': 1,\n",
       "             '▁course,': 1,\n",
       "             '▁Whitechapel': 1,\n",
       "             '▁1888': 1,\n",
       "             \"▁London's\": 1,\n",
       "             '▁East': 1,\n",
       "             '▁End.': 1,\n",
       "             \"▁It's\": 2,\n",
       "             '▁filthy,': 1,\n",
       "             '▁sooty': 1,\n",
       "             '▁place': 1,\n",
       "             '▁where': 1,\n",
       "             '▁whores': 1,\n",
       "             '▁(called': 1,\n",
       "             \"▁'unfortunates')\": 1,\n",
       "             '▁nervous': 1,\n",
       "             '▁mysterious': 1,\n",
       "             '▁psychopath': 1,\n",
       "             '▁has': 2,\n",
       "             '▁carving': 1,\n",
       "             '▁through': 1,\n",
       "             '▁their': 1,\n",
       "             '▁profession': 1,\n",
       "             '▁surgical': 1,\n",
       "             '▁precision.': 1,\n",
       "             '▁When': 1,\n",
       "             '▁first': 2,\n",
       "             '▁stiff': 1,\n",
       "             '▁turns': 2,\n",
       "             '▁up,': 1,\n",
       "             '▁copper': 1,\n",
       "             '▁Peter': 2,\n",
       "             '▁Godley': 1,\n",
       "             '▁(Robbie': 1,\n",
       "             '▁Coltrane,': 1,\n",
       "             '▁World': 1,\n",
       "             '▁Is': 1,\n",
       "             '▁Not': 1,\n",
       "             '▁Enough)': 1,\n",
       "             '▁calls': 1,\n",
       "             '▁Inspector': 1,\n",
       "             '▁Frederick': 1,\n",
       "             '▁Abberline': 1,\n",
       "             '▁(Johnny': 1,\n",
       "             '▁Depp,': 1,\n",
       "             '▁Blow)': 1,\n",
       "             '▁crack': 1,\n",
       "             '▁case.': 1,\n",
       "             '▁Abberline,': 1,\n",
       "             '▁widower,': 1,\n",
       "             '▁prophetic': 1,\n",
       "             '▁dreams': 1,\n",
       "             '▁he': 3,\n",
       "             '▁unsuccessfully': 1,\n",
       "             '▁tries': 1,\n",
       "             '▁quell': 1,\n",
       "             '▁copious': 1,\n",
       "             '▁amounts': 1,\n",
       "             '▁absinthe': 1,\n",
       "             '▁opium.': 1,\n",
       "             '▁Upon': 1,\n",
       "             '▁arriving': 1,\n",
       "             '▁Whitechapel,': 1,\n",
       "             '▁befriends': 1,\n",
       "             '▁an': 3,\n",
       "             '▁unfortunate': 1,\n",
       "             '▁named': 1,\n",
       "             '▁Mary': 1,\n",
       "             '▁Kelly': 1,\n",
       "             '▁(Heather': 1,\n",
       "             '▁Graham,': 1,\n",
       "             '▁Say': 2,\n",
       "             '▁It': 1,\n",
       "             \"▁Isn't\": 1,\n",
       "             '▁So)': 1,\n",
       "             '▁proceeds': 1,\n",
       "             '▁investigate': 1,\n",
       "             '▁horribly': 1,\n",
       "             '▁gruesome': 1,\n",
       "             '▁crimes': 1,\n",
       "             '▁even': 2,\n",
       "             '▁police': 1,\n",
       "             '▁surgeon': 1,\n",
       "             \"▁can't\": 1,\n",
       "             '▁stomach.': 1,\n",
       "             '▁I': 4,\n",
       "             '▁think': 1,\n",
       "             '▁anyone': 1,\n",
       "             '▁needs': 1,\n",
       "             '▁briefed': 1,\n",
       "             '▁on': 1,\n",
       "             '▁Ripper,': 2,\n",
       "             '▁so': 2,\n",
       "             \"▁won't\": 1,\n",
       "             '▁go': 1,\n",
       "             '▁into': 2,\n",
       "             '▁particulars': 1,\n",
       "             '▁here,': 1,\n",
       "             '▁unique': 1,\n",
       "             '▁interesting': 1,\n",
       "             '▁theory': 1,\n",
       "             '▁both': 1,\n",
       "             '▁identity': 2,\n",
       "             '▁killer': 1,\n",
       "             '▁reasons': 1,\n",
       "             '▁chooses': 1,\n",
       "             '▁slay.': 1,\n",
       "             '▁comic,': 1,\n",
       "             '▁bother': 1,\n",
       "             '▁cloaking': 1,\n",
       "             '▁screenwriters': 1,\n",
       "             '▁Terry': 1,\n",
       "             '▁Hayes': 1,\n",
       "             '▁(Vertical': 1,\n",
       "             '▁Limit)': 1,\n",
       "             '▁Rafael': 1,\n",
       "             '▁Yglesias': 1,\n",
       "             '▁(Les': 1,\n",
       "             '▁Misérables)': 1,\n",
       "             '▁do': 1,\n",
       "             '▁good': 1,\n",
       "             '▁job': 1,\n",
       "             '▁keeping': 1,\n",
       "             '▁him': 1,\n",
       "             '▁hidden': 1,\n",
       "             '▁viewers': 1,\n",
       "             '▁until': 1,\n",
       "             '▁very': 1,\n",
       "             '▁end.': 1,\n",
       "             '▁funny': 1,\n",
       "             '▁watch': 1,\n",
       "             '▁locals': 1,\n",
       "             '▁blindly': 1,\n",
       "             '▁point': 1,\n",
       "             '▁finger': 1,\n",
       "             '▁blame': 1,\n",
       "             '▁at': 2,\n",
       "             '▁Jews': 1,\n",
       "             '▁Indians': 1,\n",
       "             '▁because,': 1,\n",
       "             '▁after': 1,\n",
       "             '▁all,': 1,\n",
       "             '▁Englishman': 1,\n",
       "             '▁could': 1,\n",
       "             '▁capable': 1,\n",
       "             '▁committing': 1,\n",
       "             '▁such': 1,\n",
       "             '▁ghastly': 1,\n",
       "             '▁acts.': 1,\n",
       "             '▁And': 1,\n",
       "             '▁ending': 1,\n",
       "             '▁whistling': 1,\n",
       "             '▁Stonecutters': 1,\n",
       "             '▁song': 1,\n",
       "             '▁Simpsons': 1,\n",
       "             '▁for': 1,\n",
       "             '▁days': 1,\n",
       "             \"▁('who\": 1,\n",
       "             '▁holds': 1,\n",
       "             '▁back': 1,\n",
       "             '▁electric': 1,\n",
       "             '▁car/who': 1,\n",
       "             '▁made': 1,\n",
       "             '▁Steve': 1,\n",
       "             '▁Guttenberg': 1,\n",
       "             \"▁star?').\": 1,\n",
       "             \"▁Don't\": 1,\n",
       "             '▁worry': 1,\n",
       "             '▁-': 1,\n",
       "             \"▁it'll\": 1,\n",
       "             '▁all': 2,\n",
       "             '▁make': 2,\n",
       "             '▁sense': 1,\n",
       "             '▁when': 1,\n",
       "             '▁see': 2,\n",
       "             '▁it.': 1,\n",
       "             '▁Now': 1,\n",
       "             '▁onto': 1,\n",
       "             '▁appearance:': 1,\n",
       "             \"▁it's\": 2,\n",
       "             '▁certainly': 1,\n",
       "             '▁dark': 1,\n",
       "             '▁bleak': 1,\n",
       "             '▁enough,': 1,\n",
       "             '▁surprising': 1,\n",
       "             '▁much': 1,\n",
       "             '▁looks': 1,\n",
       "             '▁Tim': 1,\n",
       "             '▁Burton': 1,\n",
       "             '▁Planet': 1,\n",
       "             '▁Apes': 1,\n",
       "             '▁did': 1,\n",
       "             '▁(at': 1,\n",
       "             '▁times,': 1,\n",
       "             '▁Sleepy': 1,\n",
       "             '▁Hollow': 1,\n",
       "             '▁2).': 1,\n",
       "             '▁print': 1,\n",
       "             '▁saw': 1,\n",
       "             \"▁wasn't\": 2,\n",
       "             '▁completely': 1,\n",
       "             '▁finished': 1,\n",
       "             '▁(both': 1,\n",
       "             '▁color': 1,\n",
       "             '▁music': 1,\n",
       "             '▁not': 1,\n",
       "             '▁finalized,': 1,\n",
       "             '▁no': 1,\n",
       "             '▁comments': 1,\n",
       "             '▁Marilyn': 1,\n",
       "             '▁Manson),': 1,\n",
       "             '▁cinematographer': 1,\n",
       "             '▁Deming': 1,\n",
       "             \"▁(Don't\": 1,\n",
       "             '▁Word)': 1,\n",
       "             '▁ably': 1,\n",
       "             '▁captures': 1,\n",
       "             '▁dreariness': 1,\n",
       "             '▁Victorian-era': 1,\n",
       "             '▁London': 1,\n",
       "             '▁helped': 1,\n",
       "             '▁flashy': 1,\n",
       "             '▁killing': 1,\n",
       "             '▁scenes': 1,\n",
       "             '▁remind': 1,\n",
       "             '▁crazy': 1,\n",
       "             '▁flashbacks': 1,\n",
       "             '▁Twin': 1,\n",
       "             '▁Peaks,': 1,\n",
       "             '▁though': 1,\n",
       "             '▁violence': 1,\n",
       "             '▁pales': 1,\n",
       "             '▁comparison': 1,\n",
       "             '▁black-and-white': 1,\n",
       "             '▁comic.': 1,\n",
       "             '▁Oscar': 1,\n",
       "             '▁winner': 1,\n",
       "             '▁Martin': 1,\n",
       "             \"▁Childs'\": 1,\n",
       "             '▁(Shakespeare': 1,\n",
       "             '▁Love)': 1,\n",
       "             '▁production': 1,\n",
       "             '▁design': 1,\n",
       "             '▁original': 1,\n",
       "             '▁Prague': 1,\n",
       "             '▁surroundings': 1,\n",
       "             '▁one': 1,\n",
       "             '▁creepy': 1,\n",
       "             '▁place.': 1,\n",
       "             '▁Even': 1,\n",
       "             '▁acting': 1,\n",
       "             '▁solid,': 1,\n",
       "             '▁dreamy': 1,\n",
       "             '▁Depp': 1,\n",
       "             '▁turning': 1,\n",
       "             '▁typically': 1,\n",
       "             '▁strong': 1,\n",
       "             '▁performance': 1,\n",
       "             '▁deftly': 1,\n",
       "             '▁handling': 1,\n",
       "             '▁British': 1,\n",
       "             '▁accent.': 1,\n",
       "             '▁Ians': 1,\n",
       "             '▁Holm': 1,\n",
       "             '▁(Joe': 1,\n",
       "             \"▁Gould's\": 1,\n",
       "             '▁Secret)': 1,\n",
       "             '▁Richardson': 1,\n",
       "             '▁(102': 1,\n",
       "             '▁Dalmatians)': 1,\n",
       "             '▁log': 1,\n",
       "             '▁great': 1,\n",
       "             '▁supporting': 1,\n",
       "             '▁roles,': 1,\n",
       "             '▁big': 1,\n",
       "             '▁surprise': 1,\n",
       "             '▁here': 1,\n",
       "             '▁Graham.': 1,\n",
       "             '▁cringed': 1,\n",
       "             '▁time': 1,\n",
       "             '▁she': 1,\n",
       "             '▁opened': 1,\n",
       "             '▁her': 2,\n",
       "             '▁mouth,': 1,\n",
       "             '▁imagining': 1,\n",
       "             '▁attempt': 1,\n",
       "             '▁Irish': 1,\n",
       "             '▁accent,': 1,\n",
       "             '▁actually': 1,\n",
       "             '▁half': 1,\n",
       "             '▁bad.The': 1,\n",
       "             '▁film,': 1,\n",
       "             '▁however,': 1,\n",
       "             '▁good.': 1})"
      ]
     },
     "execution_count": 4,
     "metadata": {},
     "output_type": "execute_result"
    }
   ],
   "execution_count": 4
  },
  {
   "cell_type": "code",
   "metadata": {
    "id": "6K41xt8EOhCh",
    "ExecuteTime": {
     "end_time": "2025-09-12T15:49:10.412712Z",
     "start_time": "2025-09-12T15:49:10.389477Z"
    }
   },
   "source": [
    "char_freqs = defaultdict(int)\n",
    "subwords_freqs = defaultdict(int)\n",
    "for word, freq in word_freqs.items():\n",
    "    for i in range(len(word)):\n",
    "        char_freqs[word[i]] += freq\n",
    "        # Loop through the subwords of length at least 2\n",
    "        for j in range(i + 2, len(word) + 1):\n",
    "            subwords_freqs[word[i:j]] += freq\n",
    "\n",
    "# Sort subwords by frequency\n",
    "sorted_subwords = sorted(subwords_freqs.items(), key=lambda x: x[1], reverse=True)\n",
    "sorted_subwords[:10]"
   ],
   "outputs": [
    {
     "data": {
      "text/plain": [
       "[('▁t', 86),\n",
       " ('he', 82),\n",
       " ('th', 81),\n",
       " ('in', 70),\n",
       " ('▁a', 68),\n",
       " ('▁th', 61),\n",
       " ('er', 55),\n",
       " ('the', 53),\n",
       " ('an', 46),\n",
       " ('▁the', 45)]"
      ]
     },
     "execution_count": 5,
     "metadata": {},
     "output_type": "execute_result"
    }
   ],
   "execution_count": 5
  },
  {
   "cell_type": "code",
   "metadata": {
    "id": "sGeGzZhnOhCh",
    "ExecuteTime": {
     "end_time": "2025-09-12T15:49:10.493872Z",
     "start_time": "2025-09-12T15:49:10.479454Z"
    }
   },
   "source": [
    "token_freqs = list(char_freqs.items()) + sorted_subwords[: 300 - len(char_freqs)]\n",
    "token_freqs = {token: freq for token, freq in token_freqs}"
   ],
   "outputs": [],
   "execution_count": 6
  },
  {
   "cell_type": "code",
   "metadata": {
    "id": "y78zi_kNOhCh",
    "ExecuteTime": {
     "end_time": "2025-09-12T15:49:10.524720Z",
     "start_time": "2025-09-12T15:49:10.514867Z"
    }
   },
   "source": [
    "from math import log\n",
    "\n",
    "total_sum = sum([freq for token, freq in token_freqs.items()])\n",
    "model = {token: -log(freq / total_sum) for token, freq in token_freqs.items()}"
   ],
   "outputs": [],
   "execution_count": 7
  },
  {
   "cell_type": "code",
   "metadata": {
    "id": "1dpkvPmkOhCh",
    "ExecuteTime": {
     "end_time": "2025-09-12T15:49:10.546863Z",
     "start_time": "2025-09-12T15:49:10.533920Z"
    }
   },
   "source": [
    "def encode_word(word, model):\n",
    "    best_segmentations = [{\"start\": 0, \"score\": 1}] + [\n",
    "        {\"start\": None, \"score\": None} for _ in range(len(word))\n",
    "    ]\n",
    "    for start_idx in range(len(word)):\n",
    "        # This should be properly filled by the previous steps of the loop\n",
    "        best_score_at_start = best_segmentations[start_idx][\"score\"]\n",
    "        for end_idx in range(start_idx + 1, len(word) + 1):\n",
    "            token = word[start_idx:end_idx]\n",
    "            if token in model and best_score_at_start is not None:\n",
    "                score = model[token] + best_score_at_start\n",
    "                # If we have found a better segmentation ending at end_idx, we update\n",
    "                if (\n",
    "                    best_segmentations[end_idx][\"score\"] is None\n",
    "                    or best_segmentations[end_idx][\"score\"] > score\n",
    "                ):\n",
    "                    best_segmentations[end_idx] = {\"start\": start_idx, \"score\": score}\n",
    "\n",
    "    segmentation = best_segmentations[-1]\n",
    "    if segmentation[\"score\"] is None:\n",
    "        # We did not find a tokenization of the word -> unknown\n",
    "        return [\"<unk>\"], None\n",
    "\n",
    "    score = segmentation[\"score\"]\n",
    "    start = segmentation[\"start\"]\n",
    "    end = len(word)\n",
    "    tokens = []\n",
    "    while start != 0:\n",
    "        tokens.insert(0, word[start:end])\n",
    "        next_start = best_segmentations[start][\"start\"]\n",
    "        end = start\n",
    "        start = next_start\n",
    "    tokens.insert(0, word[start:end])\n",
    "    return tokens, score"
   ],
   "outputs": [],
   "execution_count": 8
  },
  {
   "cell_type": "code",
   "metadata": {
    "id": "aCR7Xv-gOhCi",
    "ExecuteTime": {
     "end_time": "2025-09-12T15:49:10.566419Z",
     "start_time": "2025-09-12T15:49:10.559698Z"
    }
   },
   "source": [
    "print(encode_word(\"Hopefully\", model))\n",
    "print(encode_word(\"This\", model))"
   ],
   "outputs": [
    {
     "name": "stdout",
     "output_type": "stream",
     "text": [
      "(['H', 'o', 'pe', 'f', 'u', 'lly'], 33.449067281658294)\n",
      "(['Th', 'is'], 13.793032536727)\n"
     ]
    }
   ],
   "execution_count": 9
  },
  {
   "cell_type": "code",
   "metadata": {
    "id": "rJ1tloBuOhCi",
    "ExecuteTime": {
     "end_time": "2025-09-12T15:49:10.595912Z",
     "start_time": "2025-09-12T15:49:10.589520Z"
    }
   },
   "source": [
    "def compute_loss(model):\n",
    "    loss = 0\n",
    "    for word, freq in word_freqs.items():\n",
    "        _, word_loss = encode_word(word, model)\n",
    "        loss += freq * word_loss\n",
    "    return loss"
   ],
   "outputs": [],
   "execution_count": 10
  },
  {
   "cell_type": "code",
   "metadata": {
    "id": "EBMoOrygOhCi",
    "ExecuteTime": {
     "end_time": "2025-09-12T15:49:10.625609Z",
     "start_time": "2025-09-12T15:49:10.611531Z"
    }
   },
   "source": [
    "compute_loss(model)"
   ],
   "outputs": [
    {
     "data": {
      "text/plain": [
       "12299.348245663088"
      ]
     },
     "execution_count": 11,
     "metadata": {},
     "output_type": "execute_result"
    }
   ],
   "execution_count": 11
  },
  {
   "cell_type": "code",
   "metadata": {
    "id": "50Vd3WjiOhCi",
    "ExecuteTime": {
     "end_time": "2025-09-12T15:49:10.658331Z",
     "start_time": "2025-09-12T15:49:10.648175Z"
    }
   },
   "source": [
    "import copy\n",
    "\n",
    "\n",
    "def compute_scores(model):\n",
    "    scores = {}\n",
    "    model_loss = compute_loss(model)\n",
    "    for token, score in model.items():\n",
    "        # We always keep tokens of length 1\n",
    "        if len(token) == 1:\n",
    "            continue\n",
    "        model_without_token = copy.deepcopy(model)\n",
    "        _ = model_without_token.pop(token)\n",
    "        scores[token] = compute_loss(model_without_token) - model_loss\n",
    "    return scores"
   ],
   "outputs": [],
   "execution_count": 12
  },
  {
   "cell_type": "code",
   "metadata": {
    "id": "PwG6OND1OhCi",
    "ExecuteTime": {
     "end_time": "2025-09-12T15:49:12.219632Z",
     "start_time": "2025-09-12T15:49:10.685064Z"
    }
   },
   "source": [
    "scores = compute_scores(model)\n",
    "#print(scores[\"ll\"])\n",
    "#print(scores[\"his\"])"
   ],
   "outputs": [],
   "execution_count": 13
  },
  {
   "cell_type": "code",
   "metadata": {
    "id": "fDVypqz_OhCi",
    "ExecuteTime": {
     "end_time": "2025-09-12T15:49:13.915644Z",
     "start_time": "2025-09-12T15:49:12.343287Z"
    }
   },
   "source": [
    "\n",
    "percent_to_remove = 0.786\n",
    "while len(model) > 100:\n",
    "    scores = compute_scores(model)\n",
    "    sorted_scores = sorted(scores.items(), key=lambda x: x[1])    # Remove percent_to_remove tokens with the lowest scores.\n",
    "    for i in range(int(len(model) * percent_to_remove)):\n",
    "        _ = token_freqs.pop(sorted_scores[i][0])\n",
    "    total_sum = sum([freq for token, freq in token_freqs.items()])\n",
    "    model = {token: -log(freq / total_sum) for token, freq in token_freqs.items()}\n",
    "    print(f\"New vocabulary size: {len(model)}\")\n",
    "    print(\"Vocabulary:\", model)"
   ],
   "outputs": [
    {
     "name": "stdout",
     "output_type": "stream",
     "text": [
      "New vocabulary size: 65\n",
      "Vocabulary: {'▁': 1.7842214396135274, 'H': 5.833103627758871, 'o': 2.8249488342063227, 'p': 4.0553304005055555, 'e': 2.3804740724644446, 'f': 4.366766558965444, 'u': 3.8521021588922872, 'l': 3.2491060753266394, 'y': 4.257567267000452, ',': 4.580340659263503, 'w': 4.489368881057776, 'i': 2.947372249419208, 'b': 4.1591271941871994, 'a': 2.879930968623676, 't': 2.697609411829721, 'n': 2.9063642256918314, 'd': 3.617529911754455, 'r': 3.0297432468523358, 's': 3.014705369487795, 'h': 3.1822118404966093, 'g': 4.098502572370764, 'k': 4.852274374747145, '.': 5.139956447198926, 'F': 6.238568735867035, 'm': 3.9359836428729893, 'c': 3.608480076234537, 'v': 5.273487839823448, \"'\": 4.884023073061725, '(': 5.427638519650706, 'B': 6.93171591642698, 'S': 5.833103627758871, ')': 5.427638519650706, 'C': 6.3721001284915575, 'G': 6.3721001284915575, 'W': 6.3721001284915575, 'A': 6.3721001284915575, 'M': 6.015425184552825, 'E': 6.526250808318816, '8': 6.93171591642698, '0': 6.70857236511277, '1': 7.219397988878761, '2': 7.219397988878761, '-': 6.70857236511277, 'T': 5.833103627758871, 'j': 7.6248630969869255, 'J': 6.526250808318816, 'R': 6.526250808318816, '5': 8.318010277546872, '3': 8.318010277546872, 'I': 5.427638519650706, ':': 7.6248630969869255, '?': 7.6248630969869255, 'q': 7.219397988878761, 'L': 6.70857236511277, 'P': 6.70857236511277, 'N': 7.6248630969869255, 'D': 6.526250808318816, 'U': 8.318010277546872, 'K': 8.318010277546872, 'V': 7.6248630969869255, 'Y': 8.318010277546872, 'é': 8.318010277546872, '/': 8.318010277546872, 'z': 7.6248630969869255, 'O': 8.318010277546872}\n"
     ]
    }
   ],
   "execution_count": 14
  },
  {
   "cell_type": "code",
   "metadata": {
    "id": "VHrqeMIEOhCi",
    "ExecuteTime": {
     "end_time": "2025-09-12T15:49:14.024912Z",
     "start_time": "2025-09-12T15:49:14.009487Z"
    }
   },
   "source": [
    "def tokenize(text, model):\n",
    "    words_with_offsets = tokenizer.backend_tokenizer.pre_tokenizer.pre_tokenize_str(text)\n",
    "    pre_tokenized_text = [word for word, offset in words_with_offsets]\n",
    "    encoded_words = [encode_word(word, model)[0] for word in pre_tokenized_text]\n",
    "    return sum(encoded_words, [])\n",
    "\n",
    "\n",
    "tokens = tokenize(\"I've downloaded the latest cybersecurity-related infographic that highlights the unhackable blockchain\", model)\n",
    "print(len(tokens))\n",
    "print(tokens)"
   ],
   "outputs": [
    {
     "name": "stdout",
     "output_type": "stream",
     "text": [
      "103\n",
      "['▁', 'I', \"'\", 'v', 'e', '▁', 'd', 'o', 'w', 'n', 'l', 'o', 'a', 'd', 'e', 'd', '▁', 't', 'h', 'e', '▁', 'l', 'a', 't', 'e', 's', 't', '▁', 'c', 'y', 'b', 'e', 'r', 's', 'e', 'c', 'u', 'r', 'i', 't', 'y', '-', 'r', 'e', 'l', 'a', 't', 'e', 'd', '▁', 'i', 'n', 'f', 'o', 'g', 'r', 'a', 'p', 'h', 'i', 'c', '▁', 't', 'h', 'a', 't', '▁', 'h', 'i', 'g', 'h', 'l', 'i', 'g', 'h', 't', 's', '▁', 't', 'h', 'e', '▁', 'u', 'n', 'h', 'a', 'c', 'k', 'a', 'b', 'l', 'e', '▁', 'b', 'l', 'o', 'c', 'k', 'c', 'h', 'a', 'i', 'n']\n"
     ]
    }
   ],
   "execution_count": 15
  }
 ],
 "metadata": {
  "colab": {
   "provenance": []
  },
  "language_info": {
   "name": "python"
  },
  "kernelspec": {
   "name": "python3",
   "display_name": "Python 3 (ipykernel)",
   "language": "python"
  }
 },
 "nbformat": 4,
 "nbformat_minor": 0
}
