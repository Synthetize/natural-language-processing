{
 "cells": [
  {
   "cell_type": "markdown",
   "metadata": {
    "id": "j1IuXlCXMaKx"
   },
   "source": [
    "# WordPiece tokenization"
   ]
  },
  {
   "cell_type": "markdown",
   "metadata": {
    "id": "ofSoSsjFMaKy"
   },
   "source": [
    "*Source: https://huggingface.co/learn/llm-course/en/chapter6/6*\n",
    "\n",
    "Install the Transformers, Datasets, and Evaluate libraries to run this notebook."
   ]
  },
  {
   "cell_type": "code",
   "metadata": {
    "id": "iHphZ6YHMaKz",
    "ExecuteTime": {
     "end_time": "2025-09-26T10:13:35.961128Z",
     "start_time": "2025-09-26T10:13:35.956680Z"
    }
   },
   "source": [
    "import nltk\n",
    "#!pip install datasets evaluate transformers[sentencepiece]"
   ],
   "outputs": [],
   "execution_count": 134
  },
  {
   "cell_type": "code",
   "metadata": {
    "id": "3HgeyRkVMaKz",
    "ExecuteTime": {
     "end_time": "2025-09-26T10:13:35.989773Z",
     "start_time": "2025-09-26T10:13:35.978492Z"
    }
   },
   "source": [
    "corpus = [\n",
    "    \"Films adapted from comic books have had plenty of success, whether they're about superheroes (Batman, Superman, Spawn), or geared toward kids (Casper) or the arthouse crowd (Ghost World), but there's never really been a comic book like From Hell before. For starters, it was created by Alan Moore (and Eddie Campbell), who brought the medium to a whole new level in the mid '80s with a 12-part series called The Watchmen. To say Moore and Campbell thoroughly researched the subject of Jack the Ripper would be like saying Michael Jackson is starting to look a little odd. The book (or 'graphic novel', if you will) is over 500 pages long and includes nearly 30 more that consist of nothing but footnotes. In other words, don't dismiss this film because of its source. If you can get past the whole comic book thing, you might find another stumbling block in From Hell's directors, Albert and Allen Hughes. Getting the Hughes brothers to direct this seems almost as ludicrous as casting Carrot Top in, well, anything, but riddle me this: who better to direct a film that's set in the ghetto and features really violent street crime than the mad geniuses behind Menace II Society? The ghetto in question is, of course, Whitechapel in 1888 London's East End. It's a filthy, sooty place where the whores (called 'unfortunates') are starting to get a little nervous about this mysterious psychopath who has been carving through their profession with surgical precision. When the first stiff turns up, copper Peter Godley (Robbie Coltrane, The World Is Not Enough) calls in Inspector Frederick Abberline (Johnny Depp, Blow) to crack the case. Abberline, a widower, has prophetic dreams he unsuccessfully tries to quell with copious amounts of absinthe and opium. Upon arriving in Whitechapel, he befriends an unfortunate named Mary Kelly (Heather Graham, Say It Isn't So) and proceeds to investigate the horribly gruesome crimes that even the police surgeon can't stomach. I don't think anyone needs to be briefed on Jack the Ripper, so I won't go into the particulars here, other than to say Moore and Campbell have a unique and interesting theory about both the identity of the killer and the reasons he chooses to slay. In the comic, they don't bother cloaking the identity of the Ripper, but screenwriters Terry Hayes (Vertical Limit) and Rafael Yglesias (Les Misérables) do a good job of keeping him hidden from viewers until the very end. It's funny to watch the locals blindly point the finger of blame at Jews and Indians because, after all, an Englishman could never be capable of committing such ghastly acts. And From Hell's ending had me whistling the Stonecutters song from The Simpsons for days ('who holds back the electric car/who made Steve Guttenberg a star?'). Don't worry - it'll all make sense when you see it. Now onto From Hell's appearance: it's certainly dark and bleak enough, and it's surprising to see how much more it looks like a Tim Burton film than Planet of the Apes did (at times, it seems like Sleepy Hollow 2). The print I saw wasn't completely finished (both color and music had not been finalized, so no comments about Marilyn Manson), but cinematographer Peter Deming (Don't Say a Word) ably captures the dreariness of Victorian-era London and helped make the flashy killing scenes remind me of the crazy flashbacks in Twin Peaks, even though the violence in the film pales in comparison to that in the black-and-white comic. Oscar winner Martin Childs' (Shakespeare in Love) production design turns the original Prague surroundings into one creepy place. Even the acting in From Hell is solid, with the dreamy Depp turning in a typically strong performance and deftly handling a British accent. Ians Holm (Joe Gould's Secret) and Richardson (102 Dalmatians) log in great supporting roles, but the big surprise here is Graham. I cringed the first time she opened her mouth, imagining her attempt at an Irish accent, but it actually wasn't half bad.The film, however, is all good.\",\n",
    "\n",
    "    \"In Dune: Part Two,director Denis Villeneuve expands upon the intricate, sand-swept universe he introduced in the first film, crafting a mesmerizing and sprawling epic. The movie delves deeper into the Fremen culture and Paul Atreides's complex destiny, exploring themes of power, prophecy, and fanaticism. The cinematography by Greig Fraser is a masterclass in visual storytelling, capturing the stark, breathtaking beauty of Arrakis with shots of colossal sandworms traversing the dunes and the shimmering, volatile spice fields. This visual feast is complemented by a spectacular sound design, where the rumbling of ornithopters and the chilling, ethereal whispers of the Bene Gesserit Reverend Mother fill the theater, creating an immersive, otherworldly atmosphere.Timothée Chalamet delivers a compelling performance as Paul, convincingly transitioning from a hesitant duke's son into a messianic, and at times terrifying, figure. Zendaya, as Chani, provides the emotional core of the film, acting as a grounded foil to Paul's escalating ambition. Austin Butler's portrayal of the sinister Feyd-Rautha is a standout—he's utterly menacing and unforgettable, bringing a new level of ruthlessness to the Harkonnen house. The supporting cast is equally strong, with standout performances from Florence Pugh as Princess Irulan and Léa Seydoux as Lady Margot Fenring.The narrative, while at times a bit dense, stays remarkably true to Frank Herbert's complex and philosophical source material. This isn't your typical popcorn flick; it's a cerebral, visually stunning piece of sci-fi that demands your full attention. While some might find the intricate politics of the Imperium and the Bene Gesserit a bit overwhelming, the sheer scale and craftsmanship of the film are undeniable. It's a worthy sequel that not only meets but exceeds the high expectations set by its predecessor, solidifying its place as a true cinematic triumph and a landmark in the science fiction genre.\"\n",
    "]\n",
    "#corpus = movie_reviews.raw(corpus_id)\n",
    "print(corpus)"
   ],
   "outputs": [
    {
     "name": "stdout",
     "output_type": "stream",
     "text": [
      "[\"Films adapted from comic books have had plenty of success, whether they're about superheroes (Batman, Superman, Spawn), or geared toward kids (Casper) or the arthouse crowd (Ghost World), but there's never really been a comic book like From Hell before. For starters, it was created by Alan Moore (and Eddie Campbell), who brought the medium to a whole new level in the mid '80s with a 12-part series called The Watchmen. To say Moore and Campbell thoroughly researched the subject of Jack the Ripper would be like saying Michael Jackson is starting to look a little odd. The book (or 'graphic novel', if you will) is over 500 pages long and includes nearly 30 more that consist of nothing but footnotes. In other words, don't dismiss this film because of its source. If you can get past the whole comic book thing, you might find another stumbling block in From Hell's directors, Albert and Allen Hughes. Getting the Hughes brothers to direct this seems almost as ludicrous as casting Carrot Top in, well, anything, but riddle me this: who better to direct a film that's set in the ghetto and features really violent street crime than the mad geniuses behind Menace II Society? The ghetto in question is, of course, Whitechapel in 1888 London's East End. It's a filthy, sooty place where the whores (called 'unfortunates') are starting to get a little nervous about this mysterious psychopath who has been carving through their profession with surgical precision. When the first stiff turns up, copper Peter Godley (Robbie Coltrane, The World Is Not Enough) calls in Inspector Frederick Abberline (Johnny Depp, Blow) to crack the case. Abberline, a widower, has prophetic dreams he unsuccessfully tries to quell with copious amounts of absinthe and opium. Upon arriving in Whitechapel, he befriends an unfortunate named Mary Kelly (Heather Graham, Say It Isn't So) and proceeds to investigate the horribly gruesome crimes that even the police surgeon can't stomach. I don't think anyone needs to be briefed on Jack the Ripper, so I won't go into the particulars here, other than to say Moore and Campbell have a unique and interesting theory about both the identity of the killer and the reasons he chooses to slay. In the comic, they don't bother cloaking the identity of the Ripper, but screenwriters Terry Hayes (Vertical Limit) and Rafael Yglesias (Les Misérables) do a good job of keeping him hidden from viewers until the very end. It's funny to watch the locals blindly point the finger of blame at Jews and Indians because, after all, an Englishman could never be capable of committing such ghastly acts. And From Hell's ending had me whistling the Stonecutters song from The Simpsons for days ('who holds back the electric car/who made Steve Guttenberg a star?'). Don't worry - it'll all make sense when you see it. Now onto From Hell's appearance: it's certainly dark and bleak enough, and it's surprising to see how much more it looks like a Tim Burton film than Planet of the Apes did (at times, it seems like Sleepy Hollow 2). The print I saw wasn't completely finished (both color and music had not been finalized, so no comments about Marilyn Manson), but cinematographer Peter Deming (Don't Say a Word) ably captures the dreariness of Victorian-era London and helped make the flashy killing scenes remind me of the crazy flashbacks in Twin Peaks, even though the violence in the film pales in comparison to that in the black-and-white comic. Oscar winner Martin Childs' (Shakespeare in Love) production design turns the original Prague surroundings into one creepy place. Even the acting in From Hell is solid, with the dreamy Depp turning in a typically strong performance and deftly handling a British accent. Ians Holm (Joe Gould's Secret) and Richardson (102 Dalmatians) log in great supporting roles, but the big surprise here is Graham. I cringed the first time she opened her mouth, imagining her attempt at an Irish accent, but it actually wasn't half bad.The film, however, is all good.\", \"In Dune: Part Two,director Denis Villeneuve expands upon the intricate, sand-swept universe he introduced in the first film, crafting a mesmerizing and sprawling epic. The movie delves deeper into the Fremen culture and Paul Atreides's complex destiny, exploring themes of power, prophecy, and fanaticism. The cinematography by Greig Fraser is a masterclass in visual storytelling, capturing the stark, breathtaking beauty of Arrakis with shots of colossal sandworms traversing the dunes and the shimmering, volatile spice fields. This visual feast is complemented by a spectacular sound design, where the rumbling of ornithopters and the chilling, ethereal whispers of the Bene Gesserit Reverend Mother fill the theater, creating an immersive, otherworldly atmosphere.Timothée Chalamet delivers a compelling performance as Paul, convincingly transitioning from a hesitant duke's son into a messianic, and at times terrifying, figure. Zendaya, as Chani, provides the emotional core of the film, acting as a grounded foil to Paul's escalating ambition. Austin Butler's portrayal of the sinister Feyd-Rautha is a standout—he's utterly menacing and unforgettable, bringing a new level of ruthlessness to the Harkonnen house. The supporting cast is equally strong, with standout performances from Florence Pugh as Princess Irulan and Léa Seydoux as Lady Margot Fenring.The narrative, while at times a bit dense, stays remarkably true to Frank Herbert's complex and philosophical source material. This isn't your typical popcorn flick; it's a cerebral, visually stunning piece of sci-fi that demands your full attention. While some might find the intricate politics of the Imperium and the Bene Gesserit a bit overwhelming, the sheer scale and craftsmanship of the film are undeniable. It's a worthy sequel that not only meets but exceeds the high expectations set by its predecessor, solidifying its place as a true cinematic triumph and a landmark in the science fiction genre.\"]\n"
     ]
    }
   ],
   "execution_count": 135
  },
  {
   "cell_type": "code",
   "metadata": {
    "id": "uOYaB177MaKz",
    "ExecuteTime": {
     "end_time": "2025-09-26T10:13:36.425127Z",
     "start_time": "2025-09-26T10:13:36.024954Z"
    }
   },
   "source": [
    "from transformers import AutoTokenizer\n",
    "\n",
    "tokenizer = AutoTokenizer.from_pretrained(\"bert-base-cased\")"
   ],
   "outputs": [],
   "execution_count": 136
  },
  {
   "cell_type": "code",
   "metadata": {
    "id": "HA1YK-DkMaKz",
    "ExecuteTime": {
     "end_time": "2025-09-26T10:13:36.474584Z",
     "start_time": "2025-09-26T10:13:36.441665Z"
    }
   },
   "source": [
    "from collections import defaultdict\n",
    "\n",
    "word_freqs = defaultdict(int)\n",
    "for text in corpus:\n",
    "    print(text)\n",
    "    words_with_offsets = tokenizer.backend_tokenizer.pre_tokenizer.pre_tokenize_str(text)\n",
    "    new_words = [word for word, offset in words_with_offsets]\n",
    "    for word in new_words:\n",
    "        word_freqs[word] += 1\n",
    "\n",
    "word_freqs"
   ],
   "outputs": [
    {
     "name": "stdout",
     "output_type": "stream",
     "text": [
      "Films adapted from comic books have had plenty of success, whether they're about superheroes (Batman, Superman, Spawn), or geared toward kids (Casper) or the arthouse crowd (Ghost World), but there's never really been a comic book like From Hell before. For starters, it was created by Alan Moore (and Eddie Campbell), who brought the medium to a whole new level in the mid '80s with a 12-part series called The Watchmen. To say Moore and Campbell thoroughly researched the subject of Jack the Ripper would be like saying Michael Jackson is starting to look a little odd. The book (or 'graphic novel', if you will) is over 500 pages long and includes nearly 30 more that consist of nothing but footnotes. In other words, don't dismiss this film because of its source. If you can get past the whole comic book thing, you might find another stumbling block in From Hell's directors, Albert and Allen Hughes. Getting the Hughes brothers to direct this seems almost as ludicrous as casting Carrot Top in, well, anything, but riddle me this: who better to direct a film that's set in the ghetto and features really violent street crime than the mad geniuses behind Menace II Society? The ghetto in question is, of course, Whitechapel in 1888 London's East End. It's a filthy, sooty place where the whores (called 'unfortunates') are starting to get a little nervous about this mysterious psychopath who has been carving through their profession with surgical precision. When the first stiff turns up, copper Peter Godley (Robbie Coltrane, The World Is Not Enough) calls in Inspector Frederick Abberline (Johnny Depp, Blow) to crack the case. Abberline, a widower, has prophetic dreams he unsuccessfully tries to quell with copious amounts of absinthe and opium. Upon arriving in Whitechapel, he befriends an unfortunate named Mary Kelly (Heather Graham, Say It Isn't So) and proceeds to investigate the horribly gruesome crimes that even the police surgeon can't stomach. I don't think anyone needs to be briefed on Jack the Ripper, so I won't go into the particulars here, other than to say Moore and Campbell have a unique and interesting theory about both the identity of the killer and the reasons he chooses to slay. In the comic, they don't bother cloaking the identity of the Ripper, but screenwriters Terry Hayes (Vertical Limit) and Rafael Yglesias (Les Misérables) do a good job of keeping him hidden from viewers until the very end. It's funny to watch the locals blindly point the finger of blame at Jews and Indians because, after all, an Englishman could never be capable of committing such ghastly acts. And From Hell's ending had me whistling the Stonecutters song from The Simpsons for days ('who holds back the electric car/who made Steve Guttenberg a star?'). Don't worry - it'll all make sense when you see it. Now onto From Hell's appearance: it's certainly dark and bleak enough, and it's surprising to see how much more it looks like a Tim Burton film than Planet of the Apes did (at times, it seems like Sleepy Hollow 2). The print I saw wasn't completely finished (both color and music had not been finalized, so no comments about Marilyn Manson), but cinematographer Peter Deming (Don't Say a Word) ably captures the dreariness of Victorian-era London and helped make the flashy killing scenes remind me of the crazy flashbacks in Twin Peaks, even though the violence in the film pales in comparison to that in the black-and-white comic. Oscar winner Martin Childs' (Shakespeare in Love) production design turns the original Prague surroundings into one creepy place. Even the acting in From Hell is solid, with the dreamy Depp turning in a typically strong performance and deftly handling a British accent. Ians Holm (Joe Gould's Secret) and Richardson (102 Dalmatians) log in great supporting roles, but the big surprise here is Graham. I cringed the first time she opened her mouth, imagining her attempt at an Irish accent, but it actually wasn't half bad.The film, however, is all good.\n",
      "In Dune: Part Two,director Denis Villeneuve expands upon the intricate, sand-swept universe he introduced in the first film, crafting a mesmerizing and sprawling epic. The movie delves deeper into the Fremen culture and Paul Atreides's complex destiny, exploring themes of power, prophecy, and fanaticism. The cinematography by Greig Fraser is a masterclass in visual storytelling, capturing the stark, breathtaking beauty of Arrakis with shots of colossal sandworms traversing the dunes and the shimmering, volatile spice fields. This visual feast is complemented by a spectacular sound design, where the rumbling of ornithopters and the chilling, ethereal whispers of the Bene Gesserit Reverend Mother fill the theater, creating an immersive, otherworldly atmosphere.Timothée Chalamet delivers a compelling performance as Paul, convincingly transitioning from a hesitant duke's son into a messianic, and at times terrifying, figure. Zendaya, as Chani, provides the emotional core of the film, acting as a grounded foil to Paul's escalating ambition. Austin Butler's portrayal of the sinister Feyd-Rautha is a standout—he's utterly menacing and unforgettable, bringing a new level of ruthlessness to the Harkonnen house. The supporting cast is equally strong, with standout performances from Florence Pugh as Princess Irulan and Léa Seydoux as Lady Margot Fenring.The narrative, while at times a bit dense, stays remarkably true to Frank Herbert's complex and philosophical source material. This isn't your typical popcorn flick; it's a cerebral, visually stunning piece of sci-fi that demands your full attention. While some might find the intricate politics of the Imperium and the Bene Gesserit a bit overwhelming, the sheer scale and craftsmanship of the film are undeniable. It's a worthy sequel that not only meets but exceeds the high expectations set by its predecessor, solidifying its place as a true cinematic triumph and a landmark in the science fiction genre.\n"
     ]
    },
    {
     "data": {
      "text/plain": [
       "defaultdict(int,\n",
       "            {'Films': 1,\n",
       "             'adapted': 1,\n",
       "             'from': 5,\n",
       "             'comic': 5,\n",
       "             'books': 1,\n",
       "             'have': 2,\n",
       "             'had': 3,\n",
       "             'plenty': 1,\n",
       "             'of': 25,\n",
       "             'success': 1,\n",
       "             ',': 67,\n",
       "             'whether': 1,\n",
       "             'they': 2,\n",
       "             \"'\": 40,\n",
       "             're': 1,\n",
       "             'about': 4,\n",
       "             'superheroes': 1,\n",
       "             '(': 18,\n",
       "             'Batman': 1,\n",
       "             'Superman': 1,\n",
       "             'Spawn': 1,\n",
       "             ')': 18,\n",
       "             'or': 3,\n",
       "             'geared': 1,\n",
       "             'toward': 1,\n",
       "             'kids': 1,\n",
       "             'Casper': 1,\n",
       "             'the': 60,\n",
       "             'arthouse': 1,\n",
       "             'crowd': 1,\n",
       "             'Ghost': 1,\n",
       "             'World': 2,\n",
       "             'but': 8,\n",
       "             'there': 1,\n",
       "             's': 19,\n",
       "             'never': 2,\n",
       "             'really': 2,\n",
       "             'been': 3,\n",
       "             'a': 30,\n",
       "             'book': 3,\n",
       "             'like': 4,\n",
       "             'From': 5,\n",
       "             'Hell': 5,\n",
       "             'before': 1,\n",
       "             '.': 35,\n",
       "             'For': 1,\n",
       "             'starters': 1,\n",
       "             'it': 9,\n",
       "             'was': 1,\n",
       "             'created': 1,\n",
       "             'by': 4,\n",
       "             'Alan': 1,\n",
       "             'Moore': 3,\n",
       "             'and': 31,\n",
       "             'Eddie': 1,\n",
       "             'Campbell': 3,\n",
       "             'who': 5,\n",
       "             'brought': 1,\n",
       "             'medium': 1,\n",
       "             'to': 17,\n",
       "             'whole': 2,\n",
       "             'new': 2,\n",
       "             'level': 2,\n",
       "             'in': 19,\n",
       "             'mid': 1,\n",
       "             '80s': 1,\n",
       "             'with': 6,\n",
       "             '12': 1,\n",
       "             '-': 8,\n",
       "             'part': 1,\n",
       "             'series': 1,\n",
       "             'called': 2,\n",
       "             'The': 11,\n",
       "             'Watchmen': 1,\n",
       "             'To': 1,\n",
       "             'say': 2,\n",
       "             'thoroughly': 1,\n",
       "             'researched': 1,\n",
       "             'subject': 1,\n",
       "             'Jack': 2,\n",
       "             'Ripper': 3,\n",
       "             'would': 1,\n",
       "             'be': 3,\n",
       "             'saying': 1,\n",
       "             'Michael': 1,\n",
       "             'Jackson': 1,\n",
       "             'is': 10,\n",
       "             'starting': 2,\n",
       "             'look': 1,\n",
       "             'little': 2,\n",
       "             'odd': 1,\n",
       "             'graphic': 1,\n",
       "             'novel': 1,\n",
       "             'if': 1,\n",
       "             'you': 4,\n",
       "             'will': 1,\n",
       "             'over': 1,\n",
       "             '500': 1,\n",
       "             'pages': 1,\n",
       "             'long': 1,\n",
       "             'includes': 1,\n",
       "             'nearly': 1,\n",
       "             '30': 1,\n",
       "             'more': 2,\n",
       "             'that': 6,\n",
       "             'consist': 1,\n",
       "             'nothing': 1,\n",
       "             'footnotes': 1,\n",
       "             'In': 3,\n",
       "             'other': 2,\n",
       "             'words': 1,\n",
       "             'don': 3,\n",
       "             't': 11,\n",
       "             'dismiss': 1,\n",
       "             'this': 4,\n",
       "             'film': 8,\n",
       "             'because': 2,\n",
       "             'its': 3,\n",
       "             'source': 2,\n",
       "             'If': 1,\n",
       "             'can': 2,\n",
       "             'get': 2,\n",
       "             'past': 1,\n",
       "             'thing': 1,\n",
       "             'might': 2,\n",
       "             'find': 2,\n",
       "             'another': 1,\n",
       "             'stumbling': 1,\n",
       "             'block': 1,\n",
       "             'directors': 1,\n",
       "             'Albert': 1,\n",
       "             'Allen': 1,\n",
       "             'Hughes': 2,\n",
       "             'Getting': 1,\n",
       "             'brothers': 1,\n",
       "             'direct': 2,\n",
       "             'seems': 2,\n",
       "             'almost': 1,\n",
       "             'as': 8,\n",
       "             'ludicrous': 1,\n",
       "             'casting': 1,\n",
       "             'Carrot': 1,\n",
       "             'Top': 1,\n",
       "             'well': 1,\n",
       "             'anything': 1,\n",
       "             'riddle': 1,\n",
       "             'me': 3,\n",
       "             ':': 3,\n",
       "             'better': 1,\n",
       "             'set': 2,\n",
       "             'ghetto': 2,\n",
       "             'features': 1,\n",
       "             'violent': 1,\n",
       "             'street': 1,\n",
       "             'crime': 1,\n",
       "             'than': 3,\n",
       "             'mad': 1,\n",
       "             'geniuses': 1,\n",
       "             'behind': 1,\n",
       "             'Menace': 1,\n",
       "             'II': 1,\n",
       "             'Society': 1,\n",
       "             '?': 2,\n",
       "             'question': 1,\n",
       "             'course': 1,\n",
       "             'Whitechapel': 2,\n",
       "             '1888': 1,\n",
       "             'London': 2,\n",
       "             'East': 1,\n",
       "             'End': 1,\n",
       "             'It': 4,\n",
       "             'filthy': 1,\n",
       "             'sooty': 1,\n",
       "             'place': 3,\n",
       "             'where': 2,\n",
       "             'whores': 1,\n",
       "             'unfortunates': 1,\n",
       "             'are': 2,\n",
       "             'nervous': 1,\n",
       "             'mysterious': 1,\n",
       "             'psychopath': 1,\n",
       "             'has': 2,\n",
       "             'carving': 1,\n",
       "             'through': 1,\n",
       "             'their': 1,\n",
       "             'profession': 1,\n",
       "             'surgical': 1,\n",
       "             'precision': 1,\n",
       "             'When': 1,\n",
       "             'first': 3,\n",
       "             'stiff': 1,\n",
       "             'turns': 2,\n",
       "             'up': 1,\n",
       "             'copper': 1,\n",
       "             'Peter': 2,\n",
       "             'Godley': 1,\n",
       "             'Robbie': 1,\n",
       "             'Coltrane': 1,\n",
       "             'Is': 1,\n",
       "             'Not': 1,\n",
       "             'Enough': 1,\n",
       "             'calls': 1,\n",
       "             'Inspector': 1,\n",
       "             'Frederick': 1,\n",
       "             'Abberline': 2,\n",
       "             'Johnny': 1,\n",
       "             'Depp': 2,\n",
       "             'Blow': 1,\n",
       "             'crack': 1,\n",
       "             'case': 1,\n",
       "             'widower': 1,\n",
       "             'prophetic': 1,\n",
       "             'dreams': 1,\n",
       "             'he': 5,\n",
       "             'unsuccessfully': 1,\n",
       "             'tries': 1,\n",
       "             'quell': 1,\n",
       "             'copious': 1,\n",
       "             'amounts': 1,\n",
       "             'absinthe': 1,\n",
       "             'opium': 1,\n",
       "             'Upon': 1,\n",
       "             'arriving': 1,\n",
       "             'befriends': 1,\n",
       "             'an': 4,\n",
       "             'unfortunate': 1,\n",
       "             'named': 1,\n",
       "             'Mary': 1,\n",
       "             'Kelly': 1,\n",
       "             'Heather': 1,\n",
       "             'Graham': 2,\n",
       "             'Say': 2,\n",
       "             'Isn': 1,\n",
       "             'So': 1,\n",
       "             'proceeds': 1,\n",
       "             'investigate': 1,\n",
       "             'horribly': 1,\n",
       "             'gruesome': 1,\n",
       "             'crimes': 1,\n",
       "             'even': 2,\n",
       "             'police': 1,\n",
       "             'surgeon': 1,\n",
       "             'stomach': 1,\n",
       "             'I': 4,\n",
       "             'think': 1,\n",
       "             'anyone': 1,\n",
       "             'needs': 1,\n",
       "             'briefed': 1,\n",
       "             'on': 1,\n",
       "             'so': 2,\n",
       "             'won': 1,\n",
       "             'go': 1,\n",
       "             'into': 4,\n",
       "             'particulars': 1,\n",
       "             'here': 2,\n",
       "             'unique': 1,\n",
       "             'interesting': 1,\n",
       "             'theory': 1,\n",
       "             'both': 2,\n",
       "             'identity': 2,\n",
       "             'killer': 1,\n",
       "             'reasons': 1,\n",
       "             'chooses': 1,\n",
       "             'slay': 1,\n",
       "             'bother': 1,\n",
       "             'cloaking': 1,\n",
       "             'screenwriters': 1,\n",
       "             'Terry': 1,\n",
       "             'Hayes': 1,\n",
       "             'Vertical': 1,\n",
       "             'Limit': 1,\n",
       "             'Rafael': 1,\n",
       "             'Yglesias': 1,\n",
       "             'Les': 1,\n",
       "             'Misérables': 1,\n",
       "             'do': 1,\n",
       "             'good': 2,\n",
       "             'job': 1,\n",
       "             'keeping': 1,\n",
       "             'him': 1,\n",
       "             'hidden': 1,\n",
       "             'viewers': 1,\n",
       "             'until': 1,\n",
       "             'very': 1,\n",
       "             'end': 1,\n",
       "             'funny': 1,\n",
       "             'watch': 1,\n",
       "             'locals': 1,\n",
       "             'blindly': 1,\n",
       "             'point': 1,\n",
       "             'finger': 1,\n",
       "             'blame': 1,\n",
       "             'at': 5,\n",
       "             'Jews': 1,\n",
       "             'Indians': 1,\n",
       "             'after': 1,\n",
       "             'all': 3,\n",
       "             'Englishman': 1,\n",
       "             'could': 1,\n",
       "             'capable': 1,\n",
       "             'committing': 1,\n",
       "             'such': 1,\n",
       "             'ghastly': 1,\n",
       "             'acts': 1,\n",
       "             'And': 1,\n",
       "             'ending': 1,\n",
       "             'whistling': 1,\n",
       "             'Stonecutters': 1,\n",
       "             'song': 1,\n",
       "             'Simpsons': 1,\n",
       "             'for': 1,\n",
       "             'days': 1,\n",
       "             'holds': 1,\n",
       "             'back': 1,\n",
       "             'electric': 1,\n",
       "             'car': 1,\n",
       "             '/': 1,\n",
       "             'made': 1,\n",
       "             'Steve': 1,\n",
       "             'Guttenberg': 1,\n",
       "             'star': 1,\n",
       "             'Don': 2,\n",
       "             'worry': 1,\n",
       "             'll': 1,\n",
       "             'make': 2,\n",
       "             'sense': 1,\n",
       "             'when': 1,\n",
       "             'see': 2,\n",
       "             'Now': 1,\n",
       "             'onto': 1,\n",
       "             'appearance': 1,\n",
       "             'certainly': 1,\n",
       "             'dark': 1,\n",
       "             'bleak': 1,\n",
       "             'enough': 1,\n",
       "             'surprising': 1,\n",
       "             'how': 1,\n",
       "             'much': 1,\n",
       "             'looks': 1,\n",
       "             'Tim': 1,\n",
       "             'Burton': 1,\n",
       "             'Planet': 1,\n",
       "             'Apes': 1,\n",
       "             'did': 1,\n",
       "             'times': 3,\n",
       "             'Sleepy': 1,\n",
       "             'Hollow': 1,\n",
       "             '2': 1,\n",
       "             'print': 1,\n",
       "             'saw': 1,\n",
       "             'wasn': 2,\n",
       "             'completely': 1,\n",
       "             'finished': 1,\n",
       "             'color': 1,\n",
       "             'music': 1,\n",
       "             'not': 2,\n",
       "             'finalized': 1,\n",
       "             'no': 1,\n",
       "             'comments': 1,\n",
       "             'Marilyn': 1,\n",
       "             'Manson': 1,\n",
       "             'cinematographer': 1,\n",
       "             'Deming': 1,\n",
       "             'Word': 1,\n",
       "             'ably': 1,\n",
       "             'captures': 1,\n",
       "             'dreariness': 1,\n",
       "             'Victorian': 1,\n",
       "             'era': 1,\n",
       "             'helped': 1,\n",
       "             'flashy': 1,\n",
       "             'killing': 1,\n",
       "             'scenes': 1,\n",
       "             'remind': 1,\n",
       "             'crazy': 1,\n",
       "             'flashbacks': 1,\n",
       "             'Twin': 1,\n",
       "             'Peaks': 1,\n",
       "             'though': 1,\n",
       "             'violence': 1,\n",
       "             'pales': 1,\n",
       "             'comparison': 1,\n",
       "             'black': 1,\n",
       "             'white': 1,\n",
       "             'Oscar': 1,\n",
       "             'winner': 1,\n",
       "             'Martin': 1,\n",
       "             'Childs': 1,\n",
       "             'Shakespeare': 1,\n",
       "             'Love': 1,\n",
       "             'production': 1,\n",
       "             'design': 2,\n",
       "             'original': 1,\n",
       "             'Prague': 1,\n",
       "             'surroundings': 1,\n",
       "             'one': 1,\n",
       "             'creepy': 1,\n",
       "             'Even': 1,\n",
       "             'acting': 2,\n",
       "             'solid': 1,\n",
       "             'dreamy': 1,\n",
       "             'turning': 1,\n",
       "             'typically': 1,\n",
       "             'strong': 2,\n",
       "             'performance': 2,\n",
       "             'deftly': 1,\n",
       "             'handling': 1,\n",
       "             'British': 1,\n",
       "             'accent': 2,\n",
       "             'Ians': 1,\n",
       "             'Holm': 1,\n",
       "             'Joe': 1,\n",
       "             'Gould': 1,\n",
       "             'Secret': 1,\n",
       "             'Richardson': 1,\n",
       "             '102': 1,\n",
       "             'Dalmatians': 1,\n",
       "             'log': 1,\n",
       "             'great': 1,\n",
       "             'supporting': 2,\n",
       "             'roles': 1,\n",
       "             'big': 1,\n",
       "             'surprise': 1,\n",
       "             'cringed': 1,\n",
       "             'time': 1,\n",
       "             'she': 1,\n",
       "             'opened': 1,\n",
       "             'her': 2,\n",
       "             'mouth': 1,\n",
       "             'imagining': 1,\n",
       "             'attempt': 1,\n",
       "             'Irish': 1,\n",
       "             'actually': 1,\n",
       "             'half': 1,\n",
       "             'bad': 1,\n",
       "             'however': 1,\n",
       "             'Dune': 1,\n",
       "             'Part': 1,\n",
       "             'Two': 1,\n",
       "             'director': 1,\n",
       "             'Denis': 1,\n",
       "             'Villeneuve': 1,\n",
       "             'expands': 1,\n",
       "             'upon': 1,\n",
       "             'intricate': 2,\n",
       "             'sand': 1,\n",
       "             'swept': 1,\n",
       "             'universe': 1,\n",
       "             'introduced': 1,\n",
       "             'crafting': 1,\n",
       "             'mesmerizing': 1,\n",
       "             'sprawling': 1,\n",
       "             'epic': 1,\n",
       "             'movie': 1,\n",
       "             'delves': 1,\n",
       "             'deeper': 1,\n",
       "             'Fremen': 1,\n",
       "             'culture': 1,\n",
       "             'Paul': 3,\n",
       "             'Atreides': 1,\n",
       "             'complex': 2,\n",
       "             'destiny': 1,\n",
       "             'exploring': 1,\n",
       "             'themes': 1,\n",
       "             'power': 1,\n",
       "             'prophecy': 1,\n",
       "             'fanaticism': 1,\n",
       "             'cinematography': 1,\n",
       "             'Greig': 1,\n",
       "             'Fraser': 1,\n",
       "             'masterclass': 1,\n",
       "             'visual': 2,\n",
       "             'storytelling': 1,\n",
       "             'capturing': 1,\n",
       "             'stark': 1,\n",
       "             'breathtaking': 1,\n",
       "             'beauty': 1,\n",
       "             'Arrakis': 1,\n",
       "             'shots': 1,\n",
       "             'colossal': 1,\n",
       "             'sandworms': 1,\n",
       "             'traversing': 1,\n",
       "             'dunes': 1,\n",
       "             'shimmering': 1,\n",
       "             'volatile': 1,\n",
       "             'spice': 1,\n",
       "             'fields': 1,\n",
       "             'This': 2,\n",
       "             'feast': 1,\n",
       "             'complemented': 1,\n",
       "             'spectacular': 1,\n",
       "             'sound': 1,\n",
       "             'rumbling': 1,\n",
       "             'ornithopters': 1,\n",
       "             'chilling': 1,\n",
       "             'ethereal': 1,\n",
       "             'whispers': 1,\n",
       "             'Bene': 2,\n",
       "             'Gesserit': 2,\n",
       "             'Reverend': 1,\n",
       "             'Mother': 1,\n",
       "             'fill': 1,\n",
       "             'theater': 1,\n",
       "             'creating': 1,\n",
       "             'immersive': 1,\n",
       "             'otherworldly': 1,\n",
       "             'atmosphere': 1,\n",
       "             'Timothée': 1,\n",
       "             'Chalamet': 1,\n",
       "             'delivers': 1,\n",
       "             'compelling': 1,\n",
       "             'convincingly': 1,\n",
       "             'transitioning': 1,\n",
       "             'hesitant': 1,\n",
       "             'duke': 1,\n",
       "             'son': 1,\n",
       "             'messianic': 1,\n",
       "             'terrifying': 1,\n",
       "             'figure': 1,\n",
       "             'Zendaya': 1,\n",
       "             'Chani': 1,\n",
       "             'provides': 1,\n",
       "             'emotional': 1,\n",
       "             'core': 1,\n",
       "             'grounded': 1,\n",
       "             'foil': 1,\n",
       "             'escalating': 1,\n",
       "             'ambition': 1,\n",
       "             'Austin': 1,\n",
       "             'Butler': 1,\n",
       "             'portrayal': 1,\n",
       "             'sinister': 1,\n",
       "             'Feyd': 1,\n",
       "             'Rautha': 1,\n",
       "             'standout': 2,\n",
       "             '—': 1,\n",
       "             'utterly': 1,\n",
       "             'menacing': 1,\n",
       "             'unforgettable': 1,\n",
       "             'bringing': 1,\n",
       "             'ruthlessness': 1,\n",
       "             'Harkonnen': 1,\n",
       "             'house': 1,\n",
       "             'cast': 1,\n",
       "             'equally': 1,\n",
       "             'performances': 1,\n",
       "             'Florence': 1,\n",
       "             'Pugh': 1,\n",
       "             'Princess': 1,\n",
       "             'Irulan': 1,\n",
       "             'Léa': 1,\n",
       "             'Seydoux': 1,\n",
       "             'Lady': 1,\n",
       "             'Margot': 1,\n",
       "             'Fenring': 1,\n",
       "             'narrative': 1,\n",
       "             'while': 1,\n",
       "             'bit': 2,\n",
       "             'dense': 1,\n",
       "             'stays': 1,\n",
       "             'remarkably': 1,\n",
       "             'true': 2,\n",
       "             'Frank': 1,\n",
       "             'Herbert': 1,\n",
       "             'philosophical': 1,\n",
       "             'material': 1,\n",
       "             'isn': 1,\n",
       "             'your': 2,\n",
       "             'typical': 1,\n",
       "             'popcorn': 1,\n",
       "             'flick': 1,\n",
       "             ';': 1,\n",
       "             'cerebral': 1,\n",
       "             'visually': 1,\n",
       "             'stunning': 1,\n",
       "             'piece': 1,\n",
       "             'sci': 1,\n",
       "             'fi': 1,\n",
       "             'demands': 1,\n",
       "             'full': 1,\n",
       "             'attention': 1,\n",
       "             'While': 1,\n",
       "             'some': 1,\n",
       "             'politics': 1,\n",
       "             'Imperium': 1,\n",
       "             'overwhelming': 1,\n",
       "             'sheer': 1,\n",
       "             'scale': 1,\n",
       "             'craftsmanship': 1,\n",
       "             'undeniable': 1,\n",
       "             'worthy': 1,\n",
       "             'sequel': 1,\n",
       "             'only': 1,\n",
       "             'meets': 1,\n",
       "             'exceeds': 1,\n",
       "             'high': 1,\n",
       "             'expectations': 1,\n",
       "             'predecessor': 1,\n",
       "             'solidifying': 1,\n",
       "             'cinematic': 1,\n",
       "             'triumph': 1,\n",
       "             'landmark': 1,\n",
       "             'science': 1,\n",
       "             'fiction': 1,\n",
       "             'genre': 1})"
      ]
     },
     "execution_count": 137,
     "metadata": {},
     "output_type": "execute_result"
    }
   ],
   "execution_count": 137
  },
  {
   "cell_type": "code",
   "metadata": {
    "id": "PVElGFP_MaK0",
    "ExecuteTime": {
     "end_time": "2025-09-26T10:13:36.541637Z",
     "start_time": "2025-09-26T10:13:36.530934Z"
    }
   },
   "source": [
    "alphabet = []\n",
    "for word in word_freqs.keys():\n",
    "    if word[0] not in alphabet:\n",
    "        alphabet.append(word[0])\n",
    "    for letter in word[1:]:\n",
    "        if f\"##{letter}\" not in alphabet: # A letter with ## in front of it means that it was part of a word. E.g., \"Word\" -> \"W\", \"##o\", \"##r\", \"##d\"\n",
    "            alphabet.append(f\"##{letter}\")\n",
    "\n",
    "alphabet.sort()\n",
    "alphabet\n",
    "\n",
    "print(alphabet)"
   ],
   "outputs": [
    {
     "name": "stdout",
     "output_type": "stream",
     "text": [
      "['##0', '##2', '##8', '##I', '##a', '##b', '##c', '##d', '##e', '##f', '##g', '##h', '##i', '##j', '##k', '##l', '##m', '##n', '##o', '##p', '##q', '##r', '##s', '##t', '##u', '##v', '##w', '##x', '##y', '##z', '##é', \"'\", '(', ')', ',', '-', '.', '/', '1', '2', '3', '5', '8', ':', ';', '?', 'A', 'B', 'C', 'D', 'E', 'F', 'G', 'H', 'I', 'J', 'K', 'L', 'M', 'N', 'O', 'P', 'R', 'S', 'T', 'U', 'V', 'W', 'Y', 'Z', 'a', 'b', 'c', 'd', 'e', 'f', 'g', 'h', 'i', 'j', 'k', 'l', 'm', 'n', 'o', 'p', 'q', 'r', 's', 't', 'u', 'v', 'w', 'y', '—']\n"
     ]
    }
   ],
   "execution_count": 138
  },
  {
   "cell_type": "code",
   "metadata": {
    "id": "PUbwgdwyMaK0",
    "ExecuteTime": {
     "end_time": "2025-09-26T10:13:36.586406Z",
     "start_time": "2025-09-26T10:13:36.580387Z"
    }
   },
   "source": [
    "vocab = [\"[PAD]\", \"[UNK]\", \"[CLS]\", \"[SEP]\", \"[MASK]\"] + alphabet.copy()"
   ],
   "outputs": [],
   "execution_count": 139
  },
  {
   "cell_type": "code",
   "metadata": {
    "id": "mh0DtO4BMaK0",
    "ExecuteTime": {
     "end_time": "2025-09-26T10:13:36.606219Z",
     "start_time": "2025-09-26T10:13:36.595738Z"
    }
   },
   "source": [
    "splits = {\n",
    "    word: [c if i == 0 else f\"##{c}\" for i, c in enumerate(word)] for word in word_freqs.keys()\n",
    "}\n",
    "\n",
    "print(splits)"
   ],
   "outputs": [
    {
     "name": "stdout",
     "output_type": "stream",
     "text": [
      "{'Films': ['F', '##i', '##l', '##m', '##s'], 'adapted': ['a', '##d', '##a', '##p', '##t', '##e', '##d'], 'from': ['f', '##r', '##o', '##m'], 'comic': ['c', '##o', '##m', '##i', '##c'], 'books': ['b', '##o', '##o', '##k', '##s'], 'have': ['h', '##a', '##v', '##e'], 'had': ['h', '##a', '##d'], 'plenty': ['p', '##l', '##e', '##n', '##t', '##y'], 'of': ['o', '##f'], 'success': ['s', '##u', '##c', '##c', '##e', '##s', '##s'], ',': [','], 'whether': ['w', '##h', '##e', '##t', '##h', '##e', '##r'], 'they': ['t', '##h', '##e', '##y'], \"'\": [\"'\"], 're': ['r', '##e'], 'about': ['a', '##b', '##o', '##u', '##t'], 'superheroes': ['s', '##u', '##p', '##e', '##r', '##h', '##e', '##r', '##o', '##e', '##s'], '(': ['('], 'Batman': ['B', '##a', '##t', '##m', '##a', '##n'], 'Superman': ['S', '##u', '##p', '##e', '##r', '##m', '##a', '##n'], 'Spawn': ['S', '##p', '##a', '##w', '##n'], ')': [')'], 'or': ['o', '##r'], 'geared': ['g', '##e', '##a', '##r', '##e', '##d'], 'toward': ['t', '##o', '##w', '##a', '##r', '##d'], 'kids': ['k', '##i', '##d', '##s'], 'Casper': ['C', '##a', '##s', '##p', '##e', '##r'], 'the': ['t', '##h', '##e'], 'arthouse': ['a', '##r', '##t', '##h', '##o', '##u', '##s', '##e'], 'crowd': ['c', '##r', '##o', '##w', '##d'], 'Ghost': ['G', '##h', '##o', '##s', '##t'], 'World': ['W', '##o', '##r', '##l', '##d'], 'but': ['b', '##u', '##t'], 'there': ['t', '##h', '##e', '##r', '##e'], 's': ['s'], 'never': ['n', '##e', '##v', '##e', '##r'], 'really': ['r', '##e', '##a', '##l', '##l', '##y'], 'been': ['b', '##e', '##e', '##n'], 'a': ['a'], 'book': ['b', '##o', '##o', '##k'], 'like': ['l', '##i', '##k', '##e'], 'From': ['F', '##r', '##o', '##m'], 'Hell': ['H', '##e', '##l', '##l'], 'before': ['b', '##e', '##f', '##o', '##r', '##e'], '.': ['.'], 'For': ['F', '##o', '##r'], 'starters': ['s', '##t', '##a', '##r', '##t', '##e', '##r', '##s'], 'it': ['i', '##t'], 'was': ['w', '##a', '##s'], 'created': ['c', '##r', '##e', '##a', '##t', '##e', '##d'], 'by': ['b', '##y'], 'Alan': ['A', '##l', '##a', '##n'], 'Moore': ['M', '##o', '##o', '##r', '##e'], 'and': ['a', '##n', '##d'], 'Eddie': ['E', '##d', '##d', '##i', '##e'], 'Campbell': ['C', '##a', '##m', '##p', '##b', '##e', '##l', '##l'], 'who': ['w', '##h', '##o'], 'brought': ['b', '##r', '##o', '##u', '##g', '##h', '##t'], 'medium': ['m', '##e', '##d', '##i', '##u', '##m'], 'to': ['t', '##o'], 'whole': ['w', '##h', '##o', '##l', '##e'], 'new': ['n', '##e', '##w'], 'level': ['l', '##e', '##v', '##e', '##l'], 'in': ['i', '##n'], 'mid': ['m', '##i', '##d'], '80s': ['8', '##0', '##s'], 'with': ['w', '##i', '##t', '##h'], '12': ['1', '##2'], '-': ['-'], 'part': ['p', '##a', '##r', '##t'], 'series': ['s', '##e', '##r', '##i', '##e', '##s'], 'called': ['c', '##a', '##l', '##l', '##e', '##d'], 'The': ['T', '##h', '##e'], 'Watchmen': ['W', '##a', '##t', '##c', '##h', '##m', '##e', '##n'], 'To': ['T', '##o'], 'say': ['s', '##a', '##y'], 'thoroughly': ['t', '##h', '##o', '##r', '##o', '##u', '##g', '##h', '##l', '##y'], 'researched': ['r', '##e', '##s', '##e', '##a', '##r', '##c', '##h', '##e', '##d'], 'subject': ['s', '##u', '##b', '##j', '##e', '##c', '##t'], 'Jack': ['J', '##a', '##c', '##k'], 'Ripper': ['R', '##i', '##p', '##p', '##e', '##r'], 'would': ['w', '##o', '##u', '##l', '##d'], 'be': ['b', '##e'], 'saying': ['s', '##a', '##y', '##i', '##n', '##g'], 'Michael': ['M', '##i', '##c', '##h', '##a', '##e', '##l'], 'Jackson': ['J', '##a', '##c', '##k', '##s', '##o', '##n'], 'is': ['i', '##s'], 'starting': ['s', '##t', '##a', '##r', '##t', '##i', '##n', '##g'], 'look': ['l', '##o', '##o', '##k'], 'little': ['l', '##i', '##t', '##t', '##l', '##e'], 'odd': ['o', '##d', '##d'], 'graphic': ['g', '##r', '##a', '##p', '##h', '##i', '##c'], 'novel': ['n', '##o', '##v', '##e', '##l'], 'if': ['i', '##f'], 'you': ['y', '##o', '##u'], 'will': ['w', '##i', '##l', '##l'], 'over': ['o', '##v', '##e', '##r'], '500': ['5', '##0', '##0'], 'pages': ['p', '##a', '##g', '##e', '##s'], 'long': ['l', '##o', '##n', '##g'], 'includes': ['i', '##n', '##c', '##l', '##u', '##d', '##e', '##s'], 'nearly': ['n', '##e', '##a', '##r', '##l', '##y'], '30': ['3', '##0'], 'more': ['m', '##o', '##r', '##e'], 'that': ['t', '##h', '##a', '##t'], 'consist': ['c', '##o', '##n', '##s', '##i', '##s', '##t'], 'nothing': ['n', '##o', '##t', '##h', '##i', '##n', '##g'], 'footnotes': ['f', '##o', '##o', '##t', '##n', '##o', '##t', '##e', '##s'], 'In': ['I', '##n'], 'other': ['o', '##t', '##h', '##e', '##r'], 'words': ['w', '##o', '##r', '##d', '##s'], 'don': ['d', '##o', '##n'], 't': ['t'], 'dismiss': ['d', '##i', '##s', '##m', '##i', '##s', '##s'], 'this': ['t', '##h', '##i', '##s'], 'film': ['f', '##i', '##l', '##m'], 'because': ['b', '##e', '##c', '##a', '##u', '##s', '##e'], 'its': ['i', '##t', '##s'], 'source': ['s', '##o', '##u', '##r', '##c', '##e'], 'If': ['I', '##f'], 'can': ['c', '##a', '##n'], 'get': ['g', '##e', '##t'], 'past': ['p', '##a', '##s', '##t'], 'thing': ['t', '##h', '##i', '##n', '##g'], 'might': ['m', '##i', '##g', '##h', '##t'], 'find': ['f', '##i', '##n', '##d'], 'another': ['a', '##n', '##o', '##t', '##h', '##e', '##r'], 'stumbling': ['s', '##t', '##u', '##m', '##b', '##l', '##i', '##n', '##g'], 'block': ['b', '##l', '##o', '##c', '##k'], 'directors': ['d', '##i', '##r', '##e', '##c', '##t', '##o', '##r', '##s'], 'Albert': ['A', '##l', '##b', '##e', '##r', '##t'], 'Allen': ['A', '##l', '##l', '##e', '##n'], 'Hughes': ['H', '##u', '##g', '##h', '##e', '##s'], 'Getting': ['G', '##e', '##t', '##t', '##i', '##n', '##g'], 'brothers': ['b', '##r', '##o', '##t', '##h', '##e', '##r', '##s'], 'direct': ['d', '##i', '##r', '##e', '##c', '##t'], 'seems': ['s', '##e', '##e', '##m', '##s'], 'almost': ['a', '##l', '##m', '##o', '##s', '##t'], 'as': ['a', '##s'], 'ludicrous': ['l', '##u', '##d', '##i', '##c', '##r', '##o', '##u', '##s'], 'casting': ['c', '##a', '##s', '##t', '##i', '##n', '##g'], 'Carrot': ['C', '##a', '##r', '##r', '##o', '##t'], 'Top': ['T', '##o', '##p'], 'well': ['w', '##e', '##l', '##l'], 'anything': ['a', '##n', '##y', '##t', '##h', '##i', '##n', '##g'], 'riddle': ['r', '##i', '##d', '##d', '##l', '##e'], 'me': ['m', '##e'], ':': [':'], 'better': ['b', '##e', '##t', '##t', '##e', '##r'], 'set': ['s', '##e', '##t'], 'ghetto': ['g', '##h', '##e', '##t', '##t', '##o'], 'features': ['f', '##e', '##a', '##t', '##u', '##r', '##e', '##s'], 'violent': ['v', '##i', '##o', '##l', '##e', '##n', '##t'], 'street': ['s', '##t', '##r', '##e', '##e', '##t'], 'crime': ['c', '##r', '##i', '##m', '##e'], 'than': ['t', '##h', '##a', '##n'], 'mad': ['m', '##a', '##d'], 'geniuses': ['g', '##e', '##n', '##i', '##u', '##s', '##e', '##s'], 'behind': ['b', '##e', '##h', '##i', '##n', '##d'], 'Menace': ['M', '##e', '##n', '##a', '##c', '##e'], 'II': ['I', '##I'], 'Society': ['S', '##o', '##c', '##i', '##e', '##t', '##y'], '?': ['?'], 'question': ['q', '##u', '##e', '##s', '##t', '##i', '##o', '##n'], 'course': ['c', '##o', '##u', '##r', '##s', '##e'], 'Whitechapel': ['W', '##h', '##i', '##t', '##e', '##c', '##h', '##a', '##p', '##e', '##l'], '1888': ['1', '##8', '##8', '##8'], 'London': ['L', '##o', '##n', '##d', '##o', '##n'], 'East': ['E', '##a', '##s', '##t'], 'End': ['E', '##n', '##d'], 'It': ['I', '##t'], 'filthy': ['f', '##i', '##l', '##t', '##h', '##y'], 'sooty': ['s', '##o', '##o', '##t', '##y'], 'place': ['p', '##l', '##a', '##c', '##e'], 'where': ['w', '##h', '##e', '##r', '##e'], 'whores': ['w', '##h', '##o', '##r', '##e', '##s'], 'unfortunates': ['u', '##n', '##f', '##o', '##r', '##t', '##u', '##n', '##a', '##t', '##e', '##s'], 'are': ['a', '##r', '##e'], 'nervous': ['n', '##e', '##r', '##v', '##o', '##u', '##s'], 'mysterious': ['m', '##y', '##s', '##t', '##e', '##r', '##i', '##o', '##u', '##s'], 'psychopath': ['p', '##s', '##y', '##c', '##h', '##o', '##p', '##a', '##t', '##h'], 'has': ['h', '##a', '##s'], 'carving': ['c', '##a', '##r', '##v', '##i', '##n', '##g'], 'through': ['t', '##h', '##r', '##o', '##u', '##g', '##h'], 'their': ['t', '##h', '##e', '##i', '##r'], 'profession': ['p', '##r', '##o', '##f', '##e', '##s', '##s', '##i', '##o', '##n'], 'surgical': ['s', '##u', '##r', '##g', '##i', '##c', '##a', '##l'], 'precision': ['p', '##r', '##e', '##c', '##i', '##s', '##i', '##o', '##n'], 'When': ['W', '##h', '##e', '##n'], 'first': ['f', '##i', '##r', '##s', '##t'], 'stiff': ['s', '##t', '##i', '##f', '##f'], 'turns': ['t', '##u', '##r', '##n', '##s'], 'up': ['u', '##p'], 'copper': ['c', '##o', '##p', '##p', '##e', '##r'], 'Peter': ['P', '##e', '##t', '##e', '##r'], 'Godley': ['G', '##o', '##d', '##l', '##e', '##y'], 'Robbie': ['R', '##o', '##b', '##b', '##i', '##e'], 'Coltrane': ['C', '##o', '##l', '##t', '##r', '##a', '##n', '##e'], 'Is': ['I', '##s'], 'Not': ['N', '##o', '##t'], 'Enough': ['E', '##n', '##o', '##u', '##g', '##h'], 'calls': ['c', '##a', '##l', '##l', '##s'], 'Inspector': ['I', '##n', '##s', '##p', '##e', '##c', '##t', '##o', '##r'], 'Frederick': ['F', '##r', '##e', '##d', '##e', '##r', '##i', '##c', '##k'], 'Abberline': ['A', '##b', '##b', '##e', '##r', '##l', '##i', '##n', '##e'], 'Johnny': ['J', '##o', '##h', '##n', '##n', '##y'], 'Depp': ['D', '##e', '##p', '##p'], 'Blow': ['B', '##l', '##o', '##w'], 'crack': ['c', '##r', '##a', '##c', '##k'], 'case': ['c', '##a', '##s', '##e'], 'widower': ['w', '##i', '##d', '##o', '##w', '##e', '##r'], 'prophetic': ['p', '##r', '##o', '##p', '##h', '##e', '##t', '##i', '##c'], 'dreams': ['d', '##r', '##e', '##a', '##m', '##s'], 'he': ['h', '##e'], 'unsuccessfully': ['u', '##n', '##s', '##u', '##c', '##c', '##e', '##s', '##s', '##f', '##u', '##l', '##l', '##y'], 'tries': ['t', '##r', '##i', '##e', '##s'], 'quell': ['q', '##u', '##e', '##l', '##l'], 'copious': ['c', '##o', '##p', '##i', '##o', '##u', '##s'], 'amounts': ['a', '##m', '##o', '##u', '##n', '##t', '##s'], 'absinthe': ['a', '##b', '##s', '##i', '##n', '##t', '##h', '##e'], 'opium': ['o', '##p', '##i', '##u', '##m'], 'Upon': ['U', '##p', '##o', '##n'], 'arriving': ['a', '##r', '##r', '##i', '##v', '##i', '##n', '##g'], 'befriends': ['b', '##e', '##f', '##r', '##i', '##e', '##n', '##d', '##s'], 'an': ['a', '##n'], 'unfortunate': ['u', '##n', '##f', '##o', '##r', '##t', '##u', '##n', '##a', '##t', '##e'], 'named': ['n', '##a', '##m', '##e', '##d'], 'Mary': ['M', '##a', '##r', '##y'], 'Kelly': ['K', '##e', '##l', '##l', '##y'], 'Heather': ['H', '##e', '##a', '##t', '##h', '##e', '##r'], 'Graham': ['G', '##r', '##a', '##h', '##a', '##m'], 'Say': ['S', '##a', '##y'], 'Isn': ['I', '##s', '##n'], 'So': ['S', '##o'], 'proceeds': ['p', '##r', '##o', '##c', '##e', '##e', '##d', '##s'], 'investigate': ['i', '##n', '##v', '##e', '##s', '##t', '##i', '##g', '##a', '##t', '##e'], 'horribly': ['h', '##o', '##r', '##r', '##i', '##b', '##l', '##y'], 'gruesome': ['g', '##r', '##u', '##e', '##s', '##o', '##m', '##e'], 'crimes': ['c', '##r', '##i', '##m', '##e', '##s'], 'even': ['e', '##v', '##e', '##n'], 'police': ['p', '##o', '##l', '##i', '##c', '##e'], 'surgeon': ['s', '##u', '##r', '##g', '##e', '##o', '##n'], 'stomach': ['s', '##t', '##o', '##m', '##a', '##c', '##h'], 'I': ['I'], 'think': ['t', '##h', '##i', '##n', '##k'], 'anyone': ['a', '##n', '##y', '##o', '##n', '##e'], 'needs': ['n', '##e', '##e', '##d', '##s'], 'briefed': ['b', '##r', '##i', '##e', '##f', '##e', '##d'], 'on': ['o', '##n'], 'so': ['s', '##o'], 'won': ['w', '##o', '##n'], 'go': ['g', '##o'], 'into': ['i', '##n', '##t', '##o'], 'particulars': ['p', '##a', '##r', '##t', '##i', '##c', '##u', '##l', '##a', '##r', '##s'], 'here': ['h', '##e', '##r', '##e'], 'unique': ['u', '##n', '##i', '##q', '##u', '##e'], 'interesting': ['i', '##n', '##t', '##e', '##r', '##e', '##s', '##t', '##i', '##n', '##g'], 'theory': ['t', '##h', '##e', '##o', '##r', '##y'], 'both': ['b', '##o', '##t', '##h'], 'identity': ['i', '##d', '##e', '##n', '##t', '##i', '##t', '##y'], 'killer': ['k', '##i', '##l', '##l', '##e', '##r'], 'reasons': ['r', '##e', '##a', '##s', '##o', '##n', '##s'], 'chooses': ['c', '##h', '##o', '##o', '##s', '##e', '##s'], 'slay': ['s', '##l', '##a', '##y'], 'bother': ['b', '##o', '##t', '##h', '##e', '##r'], 'cloaking': ['c', '##l', '##o', '##a', '##k', '##i', '##n', '##g'], 'screenwriters': ['s', '##c', '##r', '##e', '##e', '##n', '##w', '##r', '##i', '##t', '##e', '##r', '##s'], 'Terry': ['T', '##e', '##r', '##r', '##y'], 'Hayes': ['H', '##a', '##y', '##e', '##s'], 'Vertical': ['V', '##e', '##r', '##t', '##i', '##c', '##a', '##l'], 'Limit': ['L', '##i', '##m', '##i', '##t'], 'Rafael': ['R', '##a', '##f', '##a', '##e', '##l'], 'Yglesias': ['Y', '##g', '##l', '##e', '##s', '##i', '##a', '##s'], 'Les': ['L', '##e', '##s'], 'Misérables': ['M', '##i', '##s', '##é', '##r', '##a', '##b', '##l', '##e', '##s'], 'do': ['d', '##o'], 'good': ['g', '##o', '##o', '##d'], 'job': ['j', '##o', '##b'], 'keeping': ['k', '##e', '##e', '##p', '##i', '##n', '##g'], 'him': ['h', '##i', '##m'], 'hidden': ['h', '##i', '##d', '##d', '##e', '##n'], 'viewers': ['v', '##i', '##e', '##w', '##e', '##r', '##s'], 'until': ['u', '##n', '##t', '##i', '##l'], 'very': ['v', '##e', '##r', '##y'], 'end': ['e', '##n', '##d'], 'funny': ['f', '##u', '##n', '##n', '##y'], 'watch': ['w', '##a', '##t', '##c', '##h'], 'locals': ['l', '##o', '##c', '##a', '##l', '##s'], 'blindly': ['b', '##l', '##i', '##n', '##d', '##l', '##y'], 'point': ['p', '##o', '##i', '##n', '##t'], 'finger': ['f', '##i', '##n', '##g', '##e', '##r'], 'blame': ['b', '##l', '##a', '##m', '##e'], 'at': ['a', '##t'], 'Jews': ['J', '##e', '##w', '##s'], 'Indians': ['I', '##n', '##d', '##i', '##a', '##n', '##s'], 'after': ['a', '##f', '##t', '##e', '##r'], 'all': ['a', '##l', '##l'], 'Englishman': ['E', '##n', '##g', '##l', '##i', '##s', '##h', '##m', '##a', '##n'], 'could': ['c', '##o', '##u', '##l', '##d'], 'capable': ['c', '##a', '##p', '##a', '##b', '##l', '##e'], 'committing': ['c', '##o', '##m', '##m', '##i', '##t', '##t', '##i', '##n', '##g'], 'such': ['s', '##u', '##c', '##h'], 'ghastly': ['g', '##h', '##a', '##s', '##t', '##l', '##y'], 'acts': ['a', '##c', '##t', '##s'], 'And': ['A', '##n', '##d'], 'ending': ['e', '##n', '##d', '##i', '##n', '##g'], 'whistling': ['w', '##h', '##i', '##s', '##t', '##l', '##i', '##n', '##g'], 'Stonecutters': ['S', '##t', '##o', '##n', '##e', '##c', '##u', '##t', '##t', '##e', '##r', '##s'], 'song': ['s', '##o', '##n', '##g'], 'Simpsons': ['S', '##i', '##m', '##p', '##s', '##o', '##n', '##s'], 'for': ['f', '##o', '##r'], 'days': ['d', '##a', '##y', '##s'], 'holds': ['h', '##o', '##l', '##d', '##s'], 'back': ['b', '##a', '##c', '##k'], 'electric': ['e', '##l', '##e', '##c', '##t', '##r', '##i', '##c'], 'car': ['c', '##a', '##r'], '/': ['/'], 'made': ['m', '##a', '##d', '##e'], 'Steve': ['S', '##t', '##e', '##v', '##e'], 'Guttenberg': ['G', '##u', '##t', '##t', '##e', '##n', '##b', '##e', '##r', '##g'], 'star': ['s', '##t', '##a', '##r'], 'Don': ['D', '##o', '##n'], 'worry': ['w', '##o', '##r', '##r', '##y'], 'll': ['l', '##l'], 'make': ['m', '##a', '##k', '##e'], 'sense': ['s', '##e', '##n', '##s', '##e'], 'when': ['w', '##h', '##e', '##n'], 'see': ['s', '##e', '##e'], 'Now': ['N', '##o', '##w'], 'onto': ['o', '##n', '##t', '##o'], 'appearance': ['a', '##p', '##p', '##e', '##a', '##r', '##a', '##n', '##c', '##e'], 'certainly': ['c', '##e', '##r', '##t', '##a', '##i', '##n', '##l', '##y'], 'dark': ['d', '##a', '##r', '##k'], 'bleak': ['b', '##l', '##e', '##a', '##k'], 'enough': ['e', '##n', '##o', '##u', '##g', '##h'], 'surprising': ['s', '##u', '##r', '##p', '##r', '##i', '##s', '##i', '##n', '##g'], 'how': ['h', '##o', '##w'], 'much': ['m', '##u', '##c', '##h'], 'looks': ['l', '##o', '##o', '##k', '##s'], 'Tim': ['T', '##i', '##m'], 'Burton': ['B', '##u', '##r', '##t', '##o', '##n'], 'Planet': ['P', '##l', '##a', '##n', '##e', '##t'], 'Apes': ['A', '##p', '##e', '##s'], 'did': ['d', '##i', '##d'], 'times': ['t', '##i', '##m', '##e', '##s'], 'Sleepy': ['S', '##l', '##e', '##e', '##p', '##y'], 'Hollow': ['H', '##o', '##l', '##l', '##o', '##w'], '2': ['2'], 'print': ['p', '##r', '##i', '##n', '##t'], 'saw': ['s', '##a', '##w'], 'wasn': ['w', '##a', '##s', '##n'], 'completely': ['c', '##o', '##m', '##p', '##l', '##e', '##t', '##e', '##l', '##y'], 'finished': ['f', '##i', '##n', '##i', '##s', '##h', '##e', '##d'], 'color': ['c', '##o', '##l', '##o', '##r'], 'music': ['m', '##u', '##s', '##i', '##c'], 'not': ['n', '##o', '##t'], 'finalized': ['f', '##i', '##n', '##a', '##l', '##i', '##z', '##e', '##d'], 'no': ['n', '##o'], 'comments': ['c', '##o', '##m', '##m', '##e', '##n', '##t', '##s'], 'Marilyn': ['M', '##a', '##r', '##i', '##l', '##y', '##n'], 'Manson': ['M', '##a', '##n', '##s', '##o', '##n'], 'cinematographer': ['c', '##i', '##n', '##e', '##m', '##a', '##t', '##o', '##g', '##r', '##a', '##p', '##h', '##e', '##r'], 'Deming': ['D', '##e', '##m', '##i', '##n', '##g'], 'Word': ['W', '##o', '##r', '##d'], 'ably': ['a', '##b', '##l', '##y'], 'captures': ['c', '##a', '##p', '##t', '##u', '##r', '##e', '##s'], 'dreariness': ['d', '##r', '##e', '##a', '##r', '##i', '##n', '##e', '##s', '##s'], 'Victorian': ['V', '##i', '##c', '##t', '##o', '##r', '##i', '##a', '##n'], 'era': ['e', '##r', '##a'], 'helped': ['h', '##e', '##l', '##p', '##e', '##d'], 'flashy': ['f', '##l', '##a', '##s', '##h', '##y'], 'killing': ['k', '##i', '##l', '##l', '##i', '##n', '##g'], 'scenes': ['s', '##c', '##e', '##n', '##e', '##s'], 'remind': ['r', '##e', '##m', '##i', '##n', '##d'], 'crazy': ['c', '##r', '##a', '##z', '##y'], 'flashbacks': ['f', '##l', '##a', '##s', '##h', '##b', '##a', '##c', '##k', '##s'], 'Twin': ['T', '##w', '##i', '##n'], 'Peaks': ['P', '##e', '##a', '##k', '##s'], 'though': ['t', '##h', '##o', '##u', '##g', '##h'], 'violence': ['v', '##i', '##o', '##l', '##e', '##n', '##c', '##e'], 'pales': ['p', '##a', '##l', '##e', '##s'], 'comparison': ['c', '##o', '##m', '##p', '##a', '##r', '##i', '##s', '##o', '##n'], 'black': ['b', '##l', '##a', '##c', '##k'], 'white': ['w', '##h', '##i', '##t', '##e'], 'Oscar': ['O', '##s', '##c', '##a', '##r'], 'winner': ['w', '##i', '##n', '##n', '##e', '##r'], 'Martin': ['M', '##a', '##r', '##t', '##i', '##n'], 'Childs': ['C', '##h', '##i', '##l', '##d', '##s'], 'Shakespeare': ['S', '##h', '##a', '##k', '##e', '##s', '##p', '##e', '##a', '##r', '##e'], 'Love': ['L', '##o', '##v', '##e'], 'production': ['p', '##r', '##o', '##d', '##u', '##c', '##t', '##i', '##o', '##n'], 'design': ['d', '##e', '##s', '##i', '##g', '##n'], 'original': ['o', '##r', '##i', '##g', '##i', '##n', '##a', '##l'], 'Prague': ['P', '##r', '##a', '##g', '##u', '##e'], 'surroundings': ['s', '##u', '##r', '##r', '##o', '##u', '##n', '##d', '##i', '##n', '##g', '##s'], 'one': ['o', '##n', '##e'], 'creepy': ['c', '##r', '##e', '##e', '##p', '##y'], 'Even': ['E', '##v', '##e', '##n'], 'acting': ['a', '##c', '##t', '##i', '##n', '##g'], 'solid': ['s', '##o', '##l', '##i', '##d'], 'dreamy': ['d', '##r', '##e', '##a', '##m', '##y'], 'turning': ['t', '##u', '##r', '##n', '##i', '##n', '##g'], 'typically': ['t', '##y', '##p', '##i', '##c', '##a', '##l', '##l', '##y'], 'strong': ['s', '##t', '##r', '##o', '##n', '##g'], 'performance': ['p', '##e', '##r', '##f', '##o', '##r', '##m', '##a', '##n', '##c', '##e'], 'deftly': ['d', '##e', '##f', '##t', '##l', '##y'], 'handling': ['h', '##a', '##n', '##d', '##l', '##i', '##n', '##g'], 'British': ['B', '##r', '##i', '##t', '##i', '##s', '##h'], 'accent': ['a', '##c', '##c', '##e', '##n', '##t'], 'Ians': ['I', '##a', '##n', '##s'], 'Holm': ['H', '##o', '##l', '##m'], 'Joe': ['J', '##o', '##e'], 'Gould': ['G', '##o', '##u', '##l', '##d'], 'Secret': ['S', '##e', '##c', '##r', '##e', '##t'], 'Richardson': ['R', '##i', '##c', '##h', '##a', '##r', '##d', '##s', '##o', '##n'], '102': ['1', '##0', '##2'], 'Dalmatians': ['D', '##a', '##l', '##m', '##a', '##t', '##i', '##a', '##n', '##s'], 'log': ['l', '##o', '##g'], 'great': ['g', '##r', '##e', '##a', '##t'], 'supporting': ['s', '##u', '##p', '##p', '##o', '##r', '##t', '##i', '##n', '##g'], 'roles': ['r', '##o', '##l', '##e', '##s'], 'big': ['b', '##i', '##g'], 'surprise': ['s', '##u', '##r', '##p', '##r', '##i', '##s', '##e'], 'cringed': ['c', '##r', '##i', '##n', '##g', '##e', '##d'], 'time': ['t', '##i', '##m', '##e'], 'she': ['s', '##h', '##e'], 'opened': ['o', '##p', '##e', '##n', '##e', '##d'], 'her': ['h', '##e', '##r'], 'mouth': ['m', '##o', '##u', '##t', '##h'], 'imagining': ['i', '##m', '##a', '##g', '##i', '##n', '##i', '##n', '##g'], 'attempt': ['a', '##t', '##t', '##e', '##m', '##p', '##t'], 'Irish': ['I', '##r', '##i', '##s', '##h'], 'actually': ['a', '##c', '##t', '##u', '##a', '##l', '##l', '##y'], 'half': ['h', '##a', '##l', '##f'], 'bad': ['b', '##a', '##d'], 'however': ['h', '##o', '##w', '##e', '##v', '##e', '##r'], 'Dune': ['D', '##u', '##n', '##e'], 'Part': ['P', '##a', '##r', '##t'], 'Two': ['T', '##w', '##o'], 'director': ['d', '##i', '##r', '##e', '##c', '##t', '##o', '##r'], 'Denis': ['D', '##e', '##n', '##i', '##s'], 'Villeneuve': ['V', '##i', '##l', '##l', '##e', '##n', '##e', '##u', '##v', '##e'], 'expands': ['e', '##x', '##p', '##a', '##n', '##d', '##s'], 'upon': ['u', '##p', '##o', '##n'], 'intricate': ['i', '##n', '##t', '##r', '##i', '##c', '##a', '##t', '##e'], 'sand': ['s', '##a', '##n', '##d'], 'swept': ['s', '##w', '##e', '##p', '##t'], 'universe': ['u', '##n', '##i', '##v', '##e', '##r', '##s', '##e'], 'introduced': ['i', '##n', '##t', '##r', '##o', '##d', '##u', '##c', '##e', '##d'], 'crafting': ['c', '##r', '##a', '##f', '##t', '##i', '##n', '##g'], 'mesmerizing': ['m', '##e', '##s', '##m', '##e', '##r', '##i', '##z', '##i', '##n', '##g'], 'sprawling': ['s', '##p', '##r', '##a', '##w', '##l', '##i', '##n', '##g'], 'epic': ['e', '##p', '##i', '##c'], 'movie': ['m', '##o', '##v', '##i', '##e'], 'delves': ['d', '##e', '##l', '##v', '##e', '##s'], 'deeper': ['d', '##e', '##e', '##p', '##e', '##r'], 'Fremen': ['F', '##r', '##e', '##m', '##e', '##n'], 'culture': ['c', '##u', '##l', '##t', '##u', '##r', '##e'], 'Paul': ['P', '##a', '##u', '##l'], 'Atreides': ['A', '##t', '##r', '##e', '##i', '##d', '##e', '##s'], 'complex': ['c', '##o', '##m', '##p', '##l', '##e', '##x'], 'destiny': ['d', '##e', '##s', '##t', '##i', '##n', '##y'], 'exploring': ['e', '##x', '##p', '##l', '##o', '##r', '##i', '##n', '##g'], 'themes': ['t', '##h', '##e', '##m', '##e', '##s'], 'power': ['p', '##o', '##w', '##e', '##r'], 'prophecy': ['p', '##r', '##o', '##p', '##h', '##e', '##c', '##y'], 'fanaticism': ['f', '##a', '##n', '##a', '##t', '##i', '##c', '##i', '##s', '##m'], 'cinematography': ['c', '##i', '##n', '##e', '##m', '##a', '##t', '##o', '##g', '##r', '##a', '##p', '##h', '##y'], 'Greig': ['G', '##r', '##e', '##i', '##g'], 'Fraser': ['F', '##r', '##a', '##s', '##e', '##r'], 'masterclass': ['m', '##a', '##s', '##t', '##e', '##r', '##c', '##l', '##a', '##s', '##s'], 'visual': ['v', '##i', '##s', '##u', '##a', '##l'], 'storytelling': ['s', '##t', '##o', '##r', '##y', '##t', '##e', '##l', '##l', '##i', '##n', '##g'], 'capturing': ['c', '##a', '##p', '##t', '##u', '##r', '##i', '##n', '##g'], 'stark': ['s', '##t', '##a', '##r', '##k'], 'breathtaking': ['b', '##r', '##e', '##a', '##t', '##h', '##t', '##a', '##k', '##i', '##n', '##g'], 'beauty': ['b', '##e', '##a', '##u', '##t', '##y'], 'Arrakis': ['A', '##r', '##r', '##a', '##k', '##i', '##s'], 'shots': ['s', '##h', '##o', '##t', '##s'], 'colossal': ['c', '##o', '##l', '##o', '##s', '##s', '##a', '##l'], 'sandworms': ['s', '##a', '##n', '##d', '##w', '##o', '##r', '##m', '##s'], 'traversing': ['t', '##r', '##a', '##v', '##e', '##r', '##s', '##i', '##n', '##g'], 'dunes': ['d', '##u', '##n', '##e', '##s'], 'shimmering': ['s', '##h', '##i', '##m', '##m', '##e', '##r', '##i', '##n', '##g'], 'volatile': ['v', '##o', '##l', '##a', '##t', '##i', '##l', '##e'], 'spice': ['s', '##p', '##i', '##c', '##e'], 'fields': ['f', '##i', '##e', '##l', '##d', '##s'], 'This': ['T', '##h', '##i', '##s'], 'feast': ['f', '##e', '##a', '##s', '##t'], 'complemented': ['c', '##o', '##m', '##p', '##l', '##e', '##m', '##e', '##n', '##t', '##e', '##d'], 'spectacular': ['s', '##p', '##e', '##c', '##t', '##a', '##c', '##u', '##l', '##a', '##r'], 'sound': ['s', '##o', '##u', '##n', '##d'], 'rumbling': ['r', '##u', '##m', '##b', '##l', '##i', '##n', '##g'], 'ornithopters': ['o', '##r', '##n', '##i', '##t', '##h', '##o', '##p', '##t', '##e', '##r', '##s'], 'chilling': ['c', '##h', '##i', '##l', '##l', '##i', '##n', '##g'], 'ethereal': ['e', '##t', '##h', '##e', '##r', '##e', '##a', '##l'], 'whispers': ['w', '##h', '##i', '##s', '##p', '##e', '##r', '##s'], 'Bene': ['B', '##e', '##n', '##e'], 'Gesserit': ['G', '##e', '##s', '##s', '##e', '##r', '##i', '##t'], 'Reverend': ['R', '##e', '##v', '##e', '##r', '##e', '##n', '##d'], 'Mother': ['M', '##o', '##t', '##h', '##e', '##r'], 'fill': ['f', '##i', '##l', '##l'], 'theater': ['t', '##h', '##e', '##a', '##t', '##e', '##r'], 'creating': ['c', '##r', '##e', '##a', '##t', '##i', '##n', '##g'], 'immersive': ['i', '##m', '##m', '##e', '##r', '##s', '##i', '##v', '##e'], 'otherworldly': ['o', '##t', '##h', '##e', '##r', '##w', '##o', '##r', '##l', '##d', '##l', '##y'], 'atmosphere': ['a', '##t', '##m', '##o', '##s', '##p', '##h', '##e', '##r', '##e'], 'Timothée': ['T', '##i', '##m', '##o', '##t', '##h', '##é', '##e'], 'Chalamet': ['C', '##h', '##a', '##l', '##a', '##m', '##e', '##t'], 'delivers': ['d', '##e', '##l', '##i', '##v', '##e', '##r', '##s'], 'compelling': ['c', '##o', '##m', '##p', '##e', '##l', '##l', '##i', '##n', '##g'], 'convincingly': ['c', '##o', '##n', '##v', '##i', '##n', '##c', '##i', '##n', '##g', '##l', '##y'], 'transitioning': ['t', '##r', '##a', '##n', '##s', '##i', '##t', '##i', '##o', '##n', '##i', '##n', '##g'], 'hesitant': ['h', '##e', '##s', '##i', '##t', '##a', '##n', '##t'], 'duke': ['d', '##u', '##k', '##e'], 'son': ['s', '##o', '##n'], 'messianic': ['m', '##e', '##s', '##s', '##i', '##a', '##n', '##i', '##c'], 'terrifying': ['t', '##e', '##r', '##r', '##i', '##f', '##y', '##i', '##n', '##g'], 'figure': ['f', '##i', '##g', '##u', '##r', '##e'], 'Zendaya': ['Z', '##e', '##n', '##d', '##a', '##y', '##a'], 'Chani': ['C', '##h', '##a', '##n', '##i'], 'provides': ['p', '##r', '##o', '##v', '##i', '##d', '##e', '##s'], 'emotional': ['e', '##m', '##o', '##t', '##i', '##o', '##n', '##a', '##l'], 'core': ['c', '##o', '##r', '##e'], 'grounded': ['g', '##r', '##o', '##u', '##n', '##d', '##e', '##d'], 'foil': ['f', '##o', '##i', '##l'], 'escalating': ['e', '##s', '##c', '##a', '##l', '##a', '##t', '##i', '##n', '##g'], 'ambition': ['a', '##m', '##b', '##i', '##t', '##i', '##o', '##n'], 'Austin': ['A', '##u', '##s', '##t', '##i', '##n'], 'Butler': ['B', '##u', '##t', '##l', '##e', '##r'], 'portrayal': ['p', '##o', '##r', '##t', '##r', '##a', '##y', '##a', '##l'], 'sinister': ['s', '##i', '##n', '##i', '##s', '##t', '##e', '##r'], 'Feyd': ['F', '##e', '##y', '##d'], 'Rautha': ['R', '##a', '##u', '##t', '##h', '##a'], 'standout': ['s', '##t', '##a', '##n', '##d', '##o', '##u', '##t'], '—': ['—'], 'utterly': ['u', '##t', '##t', '##e', '##r', '##l', '##y'], 'menacing': ['m', '##e', '##n', '##a', '##c', '##i', '##n', '##g'], 'unforgettable': ['u', '##n', '##f', '##o', '##r', '##g', '##e', '##t', '##t', '##a', '##b', '##l', '##e'], 'bringing': ['b', '##r', '##i', '##n', '##g', '##i', '##n', '##g'], 'ruthlessness': ['r', '##u', '##t', '##h', '##l', '##e', '##s', '##s', '##n', '##e', '##s', '##s'], 'Harkonnen': ['H', '##a', '##r', '##k', '##o', '##n', '##n', '##e', '##n'], 'house': ['h', '##o', '##u', '##s', '##e'], 'cast': ['c', '##a', '##s', '##t'], 'equally': ['e', '##q', '##u', '##a', '##l', '##l', '##y'], 'performances': ['p', '##e', '##r', '##f', '##o', '##r', '##m', '##a', '##n', '##c', '##e', '##s'], 'Florence': ['F', '##l', '##o', '##r', '##e', '##n', '##c', '##e'], 'Pugh': ['P', '##u', '##g', '##h'], 'Princess': ['P', '##r', '##i', '##n', '##c', '##e', '##s', '##s'], 'Irulan': ['I', '##r', '##u', '##l', '##a', '##n'], 'Léa': ['L', '##é', '##a'], 'Seydoux': ['S', '##e', '##y', '##d', '##o', '##u', '##x'], 'Lady': ['L', '##a', '##d', '##y'], 'Margot': ['M', '##a', '##r', '##g', '##o', '##t'], 'Fenring': ['F', '##e', '##n', '##r', '##i', '##n', '##g'], 'narrative': ['n', '##a', '##r', '##r', '##a', '##t', '##i', '##v', '##e'], 'while': ['w', '##h', '##i', '##l', '##e'], 'bit': ['b', '##i', '##t'], 'dense': ['d', '##e', '##n', '##s', '##e'], 'stays': ['s', '##t', '##a', '##y', '##s'], 'remarkably': ['r', '##e', '##m', '##a', '##r', '##k', '##a', '##b', '##l', '##y'], 'true': ['t', '##r', '##u', '##e'], 'Frank': ['F', '##r', '##a', '##n', '##k'], 'Herbert': ['H', '##e', '##r', '##b', '##e', '##r', '##t'], 'philosophical': ['p', '##h', '##i', '##l', '##o', '##s', '##o', '##p', '##h', '##i', '##c', '##a', '##l'], 'material': ['m', '##a', '##t', '##e', '##r', '##i', '##a', '##l'], 'isn': ['i', '##s', '##n'], 'your': ['y', '##o', '##u', '##r'], 'typical': ['t', '##y', '##p', '##i', '##c', '##a', '##l'], 'popcorn': ['p', '##o', '##p', '##c', '##o', '##r', '##n'], 'flick': ['f', '##l', '##i', '##c', '##k'], ';': [';'], 'cerebral': ['c', '##e', '##r', '##e', '##b', '##r', '##a', '##l'], 'visually': ['v', '##i', '##s', '##u', '##a', '##l', '##l', '##y'], 'stunning': ['s', '##t', '##u', '##n', '##n', '##i', '##n', '##g'], 'piece': ['p', '##i', '##e', '##c', '##e'], 'sci': ['s', '##c', '##i'], 'fi': ['f', '##i'], 'demands': ['d', '##e', '##m', '##a', '##n', '##d', '##s'], 'full': ['f', '##u', '##l', '##l'], 'attention': ['a', '##t', '##t', '##e', '##n', '##t', '##i', '##o', '##n'], 'While': ['W', '##h', '##i', '##l', '##e'], 'some': ['s', '##o', '##m', '##e'], 'politics': ['p', '##o', '##l', '##i', '##t', '##i', '##c', '##s'], 'Imperium': ['I', '##m', '##p', '##e', '##r', '##i', '##u', '##m'], 'overwhelming': ['o', '##v', '##e', '##r', '##w', '##h', '##e', '##l', '##m', '##i', '##n', '##g'], 'sheer': ['s', '##h', '##e', '##e', '##r'], 'scale': ['s', '##c', '##a', '##l', '##e'], 'craftsmanship': ['c', '##r', '##a', '##f', '##t', '##s', '##m', '##a', '##n', '##s', '##h', '##i', '##p'], 'undeniable': ['u', '##n', '##d', '##e', '##n', '##i', '##a', '##b', '##l', '##e'], 'worthy': ['w', '##o', '##r', '##t', '##h', '##y'], 'sequel': ['s', '##e', '##q', '##u', '##e', '##l'], 'only': ['o', '##n', '##l', '##y'], 'meets': ['m', '##e', '##e', '##t', '##s'], 'exceeds': ['e', '##x', '##c', '##e', '##e', '##d', '##s'], 'high': ['h', '##i', '##g', '##h'], 'expectations': ['e', '##x', '##p', '##e', '##c', '##t', '##a', '##t', '##i', '##o', '##n', '##s'], 'predecessor': ['p', '##r', '##e', '##d', '##e', '##c', '##e', '##s', '##s', '##o', '##r'], 'solidifying': ['s', '##o', '##l', '##i', '##d', '##i', '##f', '##y', '##i', '##n', '##g'], 'cinematic': ['c', '##i', '##n', '##e', '##m', '##a', '##t', '##i', '##c'], 'triumph': ['t', '##r', '##i', '##u', '##m', '##p', '##h'], 'landmark': ['l', '##a', '##n', '##d', '##m', '##a', '##r', '##k'], 'science': ['s', '##c', '##i', '##e', '##n', '##c', '##e'], 'fiction': ['f', '##i', '##c', '##t', '##i', '##o', '##n'], 'genre': ['g', '##e', '##n', '##r', '##e']}\n"
     ]
    }
   ],
   "execution_count": 140
  },
  {
   "cell_type": "code",
   "metadata": {
    "id": "lX_bRy27MaK0",
    "ExecuteTime": {
     "end_time": "2025-09-26T10:13:36.636132Z",
     "start_time": "2025-09-26T10:13:36.625772Z"
    }
   },
   "source": [
    "def compute_pair_scores(splits):\n",
    "    letter_freqs = defaultdict(int)\n",
    "    pair_freqs = defaultdict(int)\n",
    "    for word, freq in word_freqs.items():\n",
    "        split = splits[word]\n",
    "        if len(split) == 1:\n",
    "            letter_freqs[split[0]] += freq\n",
    "            continue\n",
    "        for i in range(len(split) - 1):\n",
    "            pair = (split[i], split[i + 1])\n",
    "            letter_freqs[split[i]] += freq\n",
    "            pair_freqs[pair] += freq\n",
    "        letter_freqs[split[-1]] += freq\n",
    "\n",
    "    scores = {\n",
    "        pair: freq / (letter_freqs[pair[0]] * letter_freqs[pair[1]])\n",
    "        for pair, freq in pair_freqs.items()\n",
    "    }\n",
    "    return scores"
   ],
   "outputs": [],
   "execution_count": 141
  },
  {
   "cell_type": "code",
   "metadata": {
    "id": "te-t52OBMaK0",
    "ExecuteTime": {
     "end_time": "2025-09-26T10:13:36.669532Z",
     "start_time": "2025-09-26T10:13:36.657830Z"
    }
   },
   "source": [
    "pair_scores = compute_pair_scores(splits)\n",
    "for i, key in enumerate(pair_scores.keys()):\n",
    "    print(f\"{key}: {pair_scores[key]}\")\n",
    "    if i >= 5:\n",
    "        break"
   ],
   "outputs": [
    {
     "name": "stdout",
     "output_type": "stream",
     "text": [
      "('F', '##i'): 0.0002454590083456063\n",
      "('##i', '##l'): 0.0003872029427423648\n",
      "('##l', '##m'): 0.0005868544600938967\n",
      "('##m', '##s'): 0.00020812520812520813\n",
      "('a', '##d'): 7.111869710546903e-05\n",
      "('##d', '##a'): 6.380195872013271e-05\n"
     ]
    }
   ],
   "execution_count": 142
  },
  {
   "cell_type": "code",
   "metadata": {
    "id": "wxE6ocn_MaK0",
    "ExecuteTime": {
     "end_time": "2025-09-26T10:13:36.704049Z",
     "start_time": "2025-09-26T10:13:36.694594Z"
    }
   },
   "source": [
    "best_pair = \"\"\n",
    "max_score = None\n",
    "for pair, score in pair_scores.items():\n",
    "    if max_score is None or max_score < score:\n",
    "        best_pair = pair\n",
    "        max_score = score\n",
    "\n",
    "print(best_pair, max_score)"
   ],
   "outputs": [
    {
     "name": "stdout",
     "output_type": "stream",
     "text": [
      "('##8', '##8') 0.2222222222222222\n"
     ]
    }
   ],
   "execution_count": 143
  },
  {
   "cell_type": "code",
   "metadata": {
    "id": "hKKEmwdFMaK1",
    "ExecuteTime": {
     "end_time": "2025-09-26T10:13:36.750569Z",
     "start_time": "2025-09-26T10:13:36.742181Z"
    }
   },
   "source": [
    "vocab.append(\"ab\")"
   ],
   "outputs": [],
   "execution_count": 144
  },
  {
   "cell_type": "code",
   "metadata": {
    "id": "Q2QpTEesMaK1",
    "ExecuteTime": {
     "end_time": "2025-09-26T10:13:36.785086Z",
     "start_time": "2025-09-26T10:13:36.776830Z"
    }
   },
   "source": [
    "def merge_pair(a, b, splits):\n",
    "    for word in word_freqs:\n",
    "        split = splits[word]\n",
    "        if len(split) == 1:\n",
    "            continue\n",
    "        i = 0\n",
    "        while i < len(split) - 1:\n",
    "            if split[i] == a and split[i + 1] == b:\n",
    "                merge = a + b[2:] if b.startswith(\"##\") else a + b\n",
    "                split = split[:i] + [merge] + split[i + 2 :]\n",
    "            else:\n",
    "                i += 1\n",
    "        splits[word] = split\n",
    "    return splits"
   ],
   "outputs": [],
   "execution_count": 145
  },
  {
   "cell_type": "code",
   "metadata": {
    "id": "aMRd0fp6MaK1",
    "ExecuteTime": {
     "end_time": "2025-09-26T10:13:36.800651Z",
     "start_time": "2025-09-26T10:13:36.793636Z"
    }
   },
   "source": [
    "# = merge_pair(\"a\", \"##b\", splits)\n",
    "#splits[\"about\"]"
   ],
   "outputs": [],
   "execution_count": 146
  },
  {
   "cell_type": "code",
   "metadata": {
    "id": "En8OVvD1MaK1",
    "ExecuteTime": {
     "end_time": "2025-09-26T10:13:39.618459Z",
     "start_time": "2025-09-26T10:13:36.811850Z"
    }
   },
   "source": [
    "vocab_size = 1800\n",
    "while len(vocab) < vocab_size:\n",
    "    scores = compute_pair_scores(splits)\n",
    "    best_pair, max_score = \"\", None\n",
    "    for pair, score in scores.items():\n",
    "        if max_score is None or max_score < score:\n",
    "            best_pair = pair\n",
    "            max_score = score\n",
    "    splits = merge_pair(*best_pair, splits)\n",
    "    new_token = (\n",
    "        best_pair[0] + best_pair[1][2:]\n",
    "        if best_pair[1].startswith(\"##\")\n",
    "        else best_pair[0] + best_pair[1]\n",
    "    )\n",
    "    vocab.append(new_token)"
   ],
   "outputs": [],
   "execution_count": 147
  },
  {
   "cell_type": "code",
   "metadata": {
    "id": "-A9W8m4FMaK1",
    "ExecuteTime": {
     "end_time": "2025-09-26T10:13:39.844962Z",
     "start_time": "2025-09-26T10:13:39.830089Z"
    }
   },
   "source": [
    "print(vocab)"
   ],
   "outputs": [
    {
     "name": "stdout",
     "output_type": "stream",
     "text": [
      "['[PAD]', '[UNK]', '[CLS]', '[SEP]', '[MASK]', '##0', '##2', '##8', '##I', '##a', '##b', '##c', '##d', '##e', '##f', '##g', '##h', '##i', '##j', '##k', '##l', '##m', '##n', '##o', '##p', '##q', '##r', '##s', '##t', '##u', '##v', '##w', '##x', '##y', '##z', '##é', \"'\", '(', ')', ',', '-', '.', '/', '1', '2', '3', '5', '8', ':', ';', '?', 'A', 'B', 'C', 'D', 'E', 'F', 'G', 'H', 'I', 'J', 'K', 'L', 'M', 'N', 'O', 'P', 'R', 'S', 'T', 'U', 'V', 'W', 'Y', 'Z', 'a', 'b', 'c', 'd', 'e', 'f', 'g', 'h', 'i', 'j', 'k', 'l', 'm', 'n', 'o', 'p', 'q', 'r', 's', 't', 'u', 'v', 'w', 'y', '—', 'ab', '##88', '##888', '1888', '12', '80', '50', '500', '30', '10', '102', 'II', 'Lé', 'ex', '##bj', 'eq', 'Up', 'of', 'Yg', 'exp', 'exc', '##ubj', 'subj', 'qu', '##qu', 'equ', 'Ab', 'Abb', 'ev', 'Ev', 'Ygl', '##zy', 'ov', 'Tw', '80s', 'Os', 'Osc', '##azy', 'Osca', 'equa', 'equal', 'equall', 'equally', 'Léa', 'yo', 'you', 'No', 'Now', 'Upo', 'jo', 'job', 'Not', 'Th', '##razy', 'crazy', 'Oscar', '##iz', 'th', 'Wh', '##hé', '##sé', 'wh', 'Ch', '##thé', '##othé', '##mothé', 'Ca', 'Cam', 'Camp', 'Campb', 'Co', 'Col', 'Colt', 'Coltr', 'Coltra', '##sér', '##séra', '##sérab', '##sérabl', '##isérabl', 'Misérabl', '##imothé', 'Timothé', 'Coltran', 'Upon', '##ux', '##oux', '##doux', '##ydoux', 'Cha', 'Chi', 'Chil', 'Child', 'Childs', 'Wo', 'Wa', 'Wat', 'Watc', 'Watch', 'Watchm', 'Wor', 'Worl', 'World', 'Word', 'Bu', 'ki', 'kil', 'kid', 'kill', 'kids', 'vi', 'Whi', 'ab', '##bb', '##obb', 'Robb', 'Robbi', '##bl', '##bly', '##mbl', '##umbl', 'rumbl', '##abl', '##pabl', '##apabl', 'capabl', '##tumbl', 'stumbl', 'stumbli', 'rumbli', 'stumblin', 'stumbling', 'rumblin', 'rumbling', '##ck', '##ack', 'Jack', '##back', '##hback', 'back', '##shback', '##ashback', '##lashback', 'flashback', 'flashbacks', '##liz', '##aliz', '##izi', '##rizi', '##naliz', '##inaliz', 'finaliz', '##rizin', '##rizing', '##lack', 'black', '##rack', 'crack', 'Chal', 'Chala', 'Chalam', 'Chan', 'Chani', 'up', 'un', 'unf', 'unfo', 'ut', 'utt', 'unfor', 'unforg', 'unfort', 'unfortu', 'unfortun', 'unfortuna', 'unfortunat', 'abo', 'abou', 'about', 'abl', 'ably', 'abs', 'absi', 'absin', 'absint', 'absinth', 'Jo', 'Joh', 'John', 'Johnn', 'Johnny', 'Whit', 'Whil', 'If', '##ff', '##iff', '##tiff', 'stiff', '##ick', '##ock', '##lock', 'block', '##lick', 'flick', '##rick', 'Vi', 'Vic', 'Vil', 'Vill', 'Vict', 'Victo', 'Victor', 'Victori', 'Victoria', 'Victorian', 'gh', '##ably', '##kably', '##ibly', '##ribly', '##rribly', '##orribly', 'horribly', '##rkably', '##arkably', '##markably', 'Fr', 'fi', 'fil', 'film', 'fill', 'filt', 'filth', 'filthy', 'Ri', 'Rip', 'Ripp', 'Ric', 'Rich', 'Richa', 'Richar', 'Richard', 'Richards', 'Richardso', 'Richardson', 'Ra', 'Raf', 'Rau', 'Rafa', 'Raut', 'Rauth', 'Rautha', '##mb', 'amb', 'ambi', 'ambit', 'ambiti', 'ambitio', 'ambition', 'Cas', 'Casp', 'Car', 'Carr', 'Carro', 'Carrot', 'vis', 'visu', 'visua', 'visual', 'vio', 'viol', 'Ma', 'Mar', 'Mary', 'Marg', 'Margo', 'Margot', 'Man', 'Mans', 'Manso', 'Manson', 'Mo', 'Moo', 'Mot', 'Moth', 'Moor', 'Fro', 'From', 'Fra', 'Fras', 'Fran', 'Frank', '##ng', '##gh', '##ugh', 'Hugh', 'Pugh', 'fig', 'figu', '##igh', 'migh', 'high', '##ough', 'might', 'figur', '##ing', 'Eng', 'fing', 'killing', 'Engl', 'Engli', 'Englis', 'English', 'Englishm', 'Englishma', '##ong', 'long', 'Englishman', 'song', '##rong', '##trong', 'strong', 'Mi', 'Mic', 'Mich', 'Micha', '##iqu', 'uniqu', 'Mari', 'Maril', 'Marily', 'Marilyn', 'Mart', 'Marti', 'Martin', 'Twi', 'Two', 'Twin', '##iabl', '##niabl', '##tabl', '##ttabl', 'wi', 'wit', 'with', 'wid', 'wido', 'widow', 'wil', 'will', 'win', 'winn', 'li', 'lik', 'lit', 'litt', 'littl', '##ig', 'big', 'Al', 'Alb', 'Ap', 'All', 'Ala', 'Alan', 'Au', 'Aus', 'Aust', 'Austi', 'Austin', '##ph', 'op', 'opi', 'opiu', 'opium', 'bu', 'but', 'who', 'whi', 'To', 'Top', 'Ti', 'Tim', 'wo', 'wa', 'was', 'wat', 'watc', 'watch', 'wasn', 'wou', 'woul', 'would', 'wor', 'won', 'word', 'words', 'Lo', 'Lov', 'Lon', 'Lond', 'Londo', 'London', 'upo', 'upon', 'vo', 'vol', 'vola', 'volat', 'volati', 'volatil', 'whis', 'whisp', 'whist', 'whistl', 'whistling', 'whil', 'whit', '##pp', '##upp', 'supp', 'suppo', 'suppor', 'support', 'supporting', '##mp', 'Imp', 'ep', 'epi', 'epic', '##omp', 'comp', 'compl', '##imp', 'Simp', 'Simps', 'Simpso', '##mpt', 'Simpson', 'Simpsons', 'Sp', 'Spa', 'Spaw', 'Spawn', 'compa', 'compar', 'compari', 'comparis', 'compariso', 'comparison', 'app', 'Li', 'Lim', 'Limi', 'Limit', 'La', 'Lad', 'Lady', 'lo', 'log', 'loc', 'loca', 'local', 'loo', 'look', 'locals', 'lu', 'lud', 'ludi', 'ludic', 'ludicr', 'ludicro', 'ludicrou', 'ludicrous', 'looks', '##ak', 'mak', '##aking', '##hak', 'Shak', '##oaking', '##loaking', 'cloaking', '##taking', '##htaking', '##thtaking', '##athtaking', '##aki', '##akis', '##rakis', '##rrakis', 'Arrakis', '##aks', 'At', 'An', 'And', 'Atr', 'But', 'Butl', 'Bur', 'Burt', 'Burto', 'Burton', 'wort', 'worth', 'worthy', 'worr', 'worry', 'Gh', 'Gho', 'Ghos', 'Ghost', 'in', 'En', 'Enough', 'End', 'Ed', 'Edd', 'Eddi', 'Ea', 'Eas', 'East', '##nd', 'and', 'end', 'ending', 'find', 'und', 'Ind', 'Indi', 'India', 'Indian', 'Indians', '##ndw', '##andw', 'sandw', 'sandwo', 'sandwor', 'sandworm', 'sandworms', '##ign', '##sign', '##und', '##unding', '##ounding', '##ound', 'sound', '##oundings', '##roundings', '##rroundings', '##urroundings', 'surroundings', '##round', 'ground', '##and', 'expand', 'land', 'landm', 'hand', 'handl', 'handling', 'landma', 'expands', 'landmar', 'landmark', '##mand', '##mands', 'sand', '##ando', '##andou', '##tandou', 'standou', 'standout', '##ind', '##hind', '##mind', '##lind', 'blind', 'blindl', 'blindly', 'expl', 'explo', 'explor', 'exploring', 'em', 'emo', 'emot', 'emoti', 'emotio', 'emotion', 'emotiona', 'emotional', '##ok', '##ook', 'book', '##uk', 'duk', '##rk', '##nk', '##ink', 'think', '##ark', 'Hark', 'dark', 'Harko', 'Harkon', 'Harkonn', '##tark', 'stark', '##rough', 'brough', 'through', '##roughl', '##roughly', '##oroughly', 'thoroughly', 'though', '##nough', 'enough', 'brought', '##nb', '##igi', '##igin', '##igina', '##iginal', '##riginal', 'original', '##iga', '##tiga', '##stiga', '##stigat', 'on', 'uni', 'univ', 'uns', 'unsu', 'unsuc', 'unsucc', 'unt', 'unti', 'until', '##ow', 'how', 'pow', 'tow', 'towa', '##owd', '##low', 'Blow', '##llow', '##ollow', 'Hollow', 'towar', 'toward', '##rowd', 'crowd', 'Pa', 'Pau', 'Paul', 'Par', 'Part', 'to', '##oph', '##aph', '##mph', '##umph', '##iumph', '##aphy', '##sph', '##osph', '##mosph', '##tmosph', 'atmosph', '##raph', '##graph', 'graph', 'graphi', 'graphic', '##ograph', '##tograph', '##atograph', '##matograph', '##raphy', '##graphy', '##ography', '##tography', '##atography', '##matography', '##riumph', 'triumph', '##ag', 'pag', '##agu', '##mag', 'imag', 'imagi', 'imagin', 'imagining', '##rg', '##urg', 'surg', '##ragu', 'Pragu', 'surgi', 'surgic', 'surgica', 'surgical', '##roph', 'proph', '##ophi', '##ophic', '##ophica', '##ophical', '##sophical', '##osophical', '##losophical', '##ilosophical', '##hilosophical', 'philosophical', 'co', 'copp', 'com', 'comi', 'comm', 'comic', 'cou', 'cop', 'copi', 'copio', 'copiou', 'copious', 'commi', 'commit', 'committ', 'committing', 'coul', 'could', 'cour', 'cours', 'con', 'conv', 'convi', 'convin', 'convinc', 'convincing', 'convincingl', 'convincingly', 'cons', 'consi', 'consis', 'col', 'colo', 'consist', 'cor', 'no', 'nov', 'not', 'noth', 'nothing', 'ca', 'cap', 'capt', 'captu', 'captur', 'capturing', 'ch', 'cho', 'choo', 'chi', 'chil', 'chill', 'chilling', 'choos', 'fu', 'fun', 'funn', 'funny', 'ful', 'full', 'go', 'goo', 'good', '##ving', '##iving', '##rving', 'carving', '##riving', '##rriving', 'arriving', 'cr', 'ci', 'cin', 'cu', 'cul', 'cult', 'cultu', 'cultur', 'cring', 'cal', 'call', 'can', 'cas', 'car', 'cast', 'casting', 'll', 'visuall', 'visually', 'colos', 'coloss', 'colossa', 'colossal', 'color', 'Du', 'Dun', 'Do', 'Don', '##wh', '##rwh', 'ha', 'hav', 'had', 'has', 'hal', 'half', '##fo', '##for', '##form', '##forma', '##forman', '##formanc', '##rformanc', 'if', '##fy', '##fying', '##ifying', '##difying', '##idifying', '##lidifying', '##olidifying', 'solidifying', '##rifying', '##rrifying', '##fu', '##ful', '##full', '##fully', '##sfully', '##ssfully', '##ft', '##fting', '##afting', 'crafting', 'aft', '##ftl', '##ftly', '##aft', 'craft', 'crafts', 'craftsm', 'craftsma', 'craftsman', 'craftsmans', 'craftsmansh', 'craftsmanshi', 'craftsmanship', 'cri', 'crim', '##of', '##rof', 'prof', 'gha', 'ghas', 'ghast', 'ghastl', 'ghastly', '##nda', '##nday', '##ndaya', '##nds', 'fo', 'foo', 'foot', 'footn', 'footno', 'footnot', 'foi', 'foil', 'for', 'fr', 'fro', 'from', 'or', 'od', 'odd', 'ot', 'oth', '##ch', '##uch', 'much', 'such', '##ych', '##ycho', '##ychop', '##ychopa', '##sychopa', 'psychopa', 'psychopat', 'psychopath', '##cha', '##chap', '##ach', '##mach', '##omach', '##tomach', 'stomach', '##rch', '##arch', '##th', 'eth', 'sh', '##oth', 'both', '##uth', 'ruth', '##outh', 'mouth', 'ruthl', '##thing', '##ything', '##nything', 'anything', '##tho', '##thop', '##thou', '##ithop', '##nithop', 'ornithop', 'ornithopt', '##thous', '##rthous', 'arthous', '##noth', 'anoth', '##roth', 'broth', '##ath', 'sho', 'shot', 'shots', '##sh', '##ish', '##shy', '##ashy', '##lashy', 'flashy', '##ah', '##aha', '##aham', '##rh', '##raham', 'Graham', 'Go', 'Gou', 'God', 'Godl', 'Goul', 'Gould', 'Gu', 'Gut', 'Gutt', 'shi', 'shim', 'shimm', 'by', 'el', '##nish', 'finish', 'fa', 'fan', 'fana', 'fanat', 'fanati', 'fanatic', 'fanatici', 'fanaticis', 'fanaticism', '##tish', '##itish', '##ritish', 'British', '##rish', 'Irish', 'Ba', 'Bat', 'Batm', 'Batma', 'Batman', 'po', 'pop', 'popc', 'popco', 'popcor', 'popcorn', 'pol', 'poli', 'polic', 'polit', 'politi', 'politic', 'politics', 'poi', 'poin', 'point', 'por', 'port', 'portr', 'portra', 'portray', 'portraya', 'portrayal', 'Fo', 'For', 'So', 'Soc', 'Soci', 'Su', 'Sup', 'tu', 'tur', 'turn', 'turning', 'turns', '##ou', 'hou', '##vou', '##mou', 'amou', 'amoun', 'sou', '##iou', 'amount', '##vous', '##ious', 'amounts', 'hous', 'sour', 'sourc', '##rvous', '##rious', '##on', 'don', '##ion', '##tion', '##tioning', '##itioning', '##sion', '##sitioning', '##nsitioning', '##ansitioning', '##ision', '##cision', '##ssion', '##ction', 'fiction', '##uction', '##duction', '##oduction', '##roduction', 'production', '##ransitioning', 'transitioning', 'mo', 'mov', 'movi', 'mor', '##ntion', '##ation', '##tation', '##ctation', '##stion', '##ctations', 'fir', 'firs', 'first', '##yon', '##nyon', 'anyon', 'di', 'dir', 'did', 'dis', 'dism', 'dismi', 'dismis', 'dismiss', 'Fi', 'Fil', 'Film', 'Films', 'Ho', 'Hol', 'Holm', 'ro', 'rol', '##wo', '##rwo', '##rwor', '##rworl', '##rworld', '##rworldl', '##rworldly', 'Fl', 'Flo', 'Flor', '##fr', '##fri', 'er', 'era', 'es', 'esc', 'esca', 'escal', 'escala', 'escalat', 'escalating', '##rb', '##br', '##bra', '##bral', 'In', 'it', 'is', 'id', 'im', 'imm', '##ming', '##lming', '##um', '##ium', '##dium', '##rium', '##im', 'tim', 'him', '##om', 'som', '##som', '##ic', '##pic', '##ypic', 'typic', 'spic', 'typica', 'typical', 'typicall', 'typically', '##icu', '##icul', '##icula', '##ticula', '##rticula', '##articula', 'particula', 'particular', 'particulars', '##ica', '##icat', '##ical', '##tical', '##rtical', '##ricat', '##tricat', 'intricat', '##iv', '##liv', '##tiv', '##ativ', '##siv', '##rsiv', '##rativ', '##rrativ', '##arrativ', 'narrativ', '##uv', '##py', '##up', 'sup', '##ping', '##to', 'onto', 'into', '##cto', '##ctor', '##ov', '##ovi', '##ovid', '##rovid', 'provid', '##tto', 'sto', 'stor', 'story', 'storyt', '##oo', 'soo', 'soot', 'sooty', 'ho', 'hol', 'hold', 'holds', '##mo', '##lmo', 'almo', 'almos', 'almost', 'do', 'so', '##od', '##odu', '##oduc', '##roduc', '##troduc', 'introduc', '##oc', '##roc', 'proc', '##or', '##ory', '##ro', '##sor', '##ssor', 'inv', 'sol', 'soli', 'solid', 'onl', 'only', '##tic', '##atic', '##matic', '##nic', '##anic', '##ianic', '##sianic', '##ssianic', '##am', 'nam', '##amy', '##lam', 'blam', '##ams', '##ric', '##tric', '##ctric', '##sic', '##usic', 'music', 'du', 'dun', '##ay', 'Say', 'Hay', 'day', 'say', 'saying', 'days', '##lay', 'slay', '##tay', 'stay', 'stays', '##ly', '##lly', '##ally', '##ually', '##tually', '##ctually', 'actually', 'my', 'mys', 'myst', 'ma', 'mad', 'mat', 'mas', 'mast', 'pl', 'pla', 'plac', 'pa', 'pal', '##ma', '##lma', '##alma', 'Dalma', '##man', 'Dalmat', 'Dalmati', 'Dalmatia', 'Dalmatian', 'Dalmatians', '##rman', '##aw', 'saw', '##awl', '##awling', '##rawling', '##prawling', 'sprawling', '##ll', 'whol', 'Pl', 'Pla', 'Plan', 'Sl', '##lling', '##ul', '##ula', '##cula', '##acula', '##ulan', '##tacula', '##ctacula', '##ctacular', '##rulan', 'Irulan', '##lp', '##lv', 'St', 'Ston', 'son', '##son', 'Jackson', '##ason', '##asons', '##au', '##cau', '##aut', '##auty', '##caus', 'su', 'suc', 'succ', 'sur', 'surp', 'surpr', 'surpri', 'surpris', 'surprising', '##lu', '##clu', 'inclu', 'includ', '##ting', '##inging', '##cting', 'acting', '##ringing', 'bringing', '##cing', '##acing', '##nacing', '##cu', '##cut', '##cutt', '##ating', 'sc', 'sci', 'sca', 'scal', '##cc', 'acc', '##nc', '##cy', '##cl', '##cla', '##clas', '##class', '##rclass', '##ct', '##ac', '##nac', '##anc', '##ranc', '##aranc', '##inc', '##rinc', 'Princ', '##ap', '##dap', 'adap', 'adapt', 'sp', '##ty', '##ity', '##tity', '##ntity', '##nty', 'It', '##at', '##atu', '##atur', 'that', 'Ia', 'Ian', 'Ians', '##al', '##ial', '##rial', '##av', '##rav', 'trav', '##ta', 'sta', '##tai', '##ita', '##tain', '##tainly', '##itan', '##itant', 'star', 'starting', 'start', '##tting', '##rtainly', '##sting', '##sitant', '##rly', '##arly', '##an', 'than', 'ba', 'bad', '##iu', '##niu', '##nius', '##ru', 'gru', 'tru', '##un', '##unn', '##unning', '##tunning', 'stunning', '##ia', '##sia', '##sias', '##ar', '##ari', '##arin', '##as', '##ast', '##pt', '##sp', 'Insp', '##li', '##lin', '##rlin', 'Thi', 'This', 'pi', '##id', 'rid', 'ridd', 'riddl', 'mid', 'hid', 'hidd', '##it', 'bit', '##rit', '##writ', '##nwrit', 'sw', 'bl', '##yd', '##in', '##iny', '##ini', 'sini', '##int', '##tiny', '##rint', 'print', '##stiny', 'sinis', 'sinist', 'thi', 'this', '##ri', 'tri', 'bri', '##ni', '##ir', '##nis', 'par', 'part', 'pas', 'past', 'scr', '##ring', '##nring', 'thing', '##sing', '##rsing', 'pr', '##ry', '##rry', '##ld', '##lds', '##cr', 'your', '##nt', 'at', 'att', 'act', 'acts', 'all', '##ctors', '##ms', 'Is', 'Isn', 'calls', 'dr', 'Gr', 'an', 'isn', 'books', 'its', '##ws', '##sm', '##tt', 'int', 'as', '##nts', 'whor', 'gr', '##rs', '##ds', '##ss', '##ssn', '##ns', '##rt', 'st', 'str', '##ts', 'adapte', 'adapted', 'have', 'ple', 'plenty', 'succe', 'success', 'whe', 'wheth', 'when', 'wher', 'whethe', 'whether', 'the', 'their', 'theory', 'they', 'them', 'theat', 're', 'really', 'reasons', 'remind', 'remarkably', 'res', 'supe', 'superh', 'superhe', 'superhero', 'superheroe', 'superheroes', 'Supe', 'Superman', 'ge', 'genius', 'gear', 'get', 'gen', 'genr', 'geare', 'geared', 'Caspe', 'Casper', 'arthouse', 'ne', 'nearly', 'nervous', 'new', 'nev', 'neve', 'never', '##en', 'Watchmen', 'Allen', 'When', 'even', 'hidden', 'scen', 'Even', 'open', 'Villen', 'Ben', 'Harkonnen', '##men', '##een', 'been', 'like', 'He', 'Heath', 'Herb', 'Hell', '##efor', 'befor', 'br', 'before', 'starte', 'starters', 'cre', 'creating', 'creat', 'create', 'created', 'Moore', 'Eddie', 'Campbe', 'Campbell', 'me', 'medium', 'mesm', 'messianic', 'menacing', 'whole', 'le', 'lev', 'leve', 'level', '##eri', 'seri', 'serie', 'series', 'calle', 'called', 'The', 'rese', 'research', 'researche', 'researched', 'subje', 'subject', 'Rippe', 'Ripper', 'be', 'becaus', 'bett', 'behind', 'befri', 'beauty', 'Michae', 'Michael', 'little', 'nove', 'novel', 'ove', 'overwh', 'over', 'page', 'pages', 'include', 'includes', 'more', 'footnote', 'footnotes', 'othe', 'otherworldly', 'other', 'because', 'source', 'anothe', 'another', 'dire', 'directors', 'direct', 'director', 'Albe', 'Albert', 'Hughe', 'Hughes', 'Ge', 'Getting', 'Gess', 'brothe', 'brothers']\n"
     ]
    }
   ],
   "execution_count": 148
  },
  {
   "cell_type": "code",
   "metadata": {
    "id": "W4Ay1mRgMaK1",
    "ExecuteTime": {
     "end_time": "2025-09-26T10:13:39.995022Z",
     "start_time": "2025-09-26T10:13:39.983556Z"
    }
   },
   "source": [
    "def encode_word(word):\n",
    "    tokens = []\n",
    "    while len(word) > 0:\n",
    "        i = len(word)\n",
    "        while i > 0 and word[:i] not in vocab:\n",
    "            i -= 1\n",
    "        if i == 0:\n",
    "            return [\"[UNK]\"]\n",
    "        tokens.append(word[:i])\n",
    "        word = word[i:]\n",
    "        if len(word) > 0:\n",
    "            word = f\"##{word}\"\n",
    "    return tokens"
   ],
   "outputs": [],
   "execution_count": 149
  },
  {
   "cell_type": "code",
   "metadata": {
    "id": "6umVEmqDMaK1",
    "ExecuteTime": {
     "end_time": "2025-09-26T10:13:40.037741Z",
     "start_time": "2025-09-26T10:13:40.020528Z"
    }
   },
   "source": [
    "print(encode_word(\"102\"))\n",
    "print(encode_word(\"unfortunately\"))"
   ],
   "outputs": [
    {
     "name": "stdout",
     "output_type": "stream",
     "text": [
      "['102']\n",
      "['unfortunat', '##e', '##ly']\n"
     ]
    }
   ],
   "execution_count": 150
  },
  {
   "cell_type": "code",
   "metadata": {
    "id": "ubGpYg9DMaK1",
    "ExecuteTime": {
     "end_time": "2025-09-26T10:13:40.105472Z",
     "start_time": "2025-09-26T10:13:40.090242Z"
    }
   },
   "source": [
    "def tokenize(text):\n",
    "    pre_tokenize_result = tokenizer._tokenizer.pre_tokenizer.pre_tokenize_str(text)\n",
    "    pre_tokenized_text = [word for word, offset in pre_tokenize_result]\n",
    "    encoded_words = [encode_word(word) for word in pre_tokenized_text]\n",
    "    return sum(encoded_words, [])"
   ],
   "outputs": [],
   "execution_count": 151
  },
  {
   "cell_type": "code",
   "metadata": {
    "id": "IxFMo1AmMaK1",
    "ExecuteTime": {
     "end_time": "2025-09-26T10:13:40.170159Z",
     "start_time": "2025-09-26T10:13:40.152808Z"
    }
   },
   "source": [
    "tokens = tokenize(\"This is a film written by Alan Moore. One of the best comic book writers ever!\")\n",
    "print(len(tokens))\n",
    "print(tokens)"
   ],
   "outputs": [
    {
     "name": "stdout",
     "output_type": "stream",
     "text": [
      "30\n",
      "['This', 'is', 'a', 'film', 'w', '##rit', '##t', '##en', 'by', 'Alan', 'Moore', '.', 'O', '##n', '##e', 'of', 'the', 'be', '##s', '##t', 'comic', 'book', 'w', '##rit', '##e', '##rs', 'ev', '##e', '##r', '[UNK]']\n"
     ]
    }
   ],
   "execution_count": 152
  }
 ],
 "metadata": {
  "colab": {
   "provenance": []
  },
  "kernelspec": {
   "display_name": ".venv (3.12.10)",
   "language": "python",
   "name": "python3"
  },
  "language_info": {
   "codemirror_mode": {
    "name": "ipython",
    "version": 3
   },
   "file_extension": ".py",
   "mimetype": "text/x-python",
   "name": "python",
   "nbconvert_exporter": "python",
   "pygments_lexer": "ipython3",
   "version": "3.12.10"
  }
 },
 "nbformat": 4,
 "nbformat_minor": 0
}
